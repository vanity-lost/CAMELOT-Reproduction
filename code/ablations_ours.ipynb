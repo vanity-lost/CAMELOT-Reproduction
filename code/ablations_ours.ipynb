{
 "cells": [
  {
   "attachments": {},
   "cell_type": "markdown",
   "metadata": {},
   "source": [
    "# This notebook is used for implement the ablation studies proposed by ourselves"
   ]
  },
  {
   "cell_type": "code",
   "execution_count": 1,
   "metadata": {},
   "outputs": [],
   "source": [
    "import numpy as np\n",
    "from tqdm import trange\n",
    "import torch\n",
    "import random\n",
    "\n",
    "from evaluation_utils import prepare_dataloader, train_loop, get_test_results, calc_metrics\n",
    "from CAMELOT import CamelotModel\n",
    "from variants_ours import CAMELOT_GMM, CAMELOT_GRU, CAMELOT_Denoising\n",
    "\n",
    "metrics = ['AUC', 'F1 score', 'Recall', 'NMI']\n",
    "seeds = [1001, 1012, 1134, 2475, 6138, 7415, 1663, 7205, 9253, 1782]"
   ]
  },
  {
   "attachments": {},
   "cell_type": "markdown",
   "metadata": {},
   "source": [
    "## 1. CAMELOT-GMM"
   ]
  },
  {
   "cell_type": "code",
   "execution_count": 2,
   "metadata": {},
   "outputs": [
    {
     "name": "stdout",
     "output_type": "stream",
     "text": [
      "\n",
      "MIMIC data has been subsettted to the following features: \n",
      " ['DBP', 'ESI', 'HR', 'RR', 'SBP', 'SPO2', 'TEMP', 'age', 'gender'].\n"
     ]
    },
    {
     "name": "stderr",
     "output_type": "stream",
     "text": [
      "100%|██████████| 7701/7701 [00:08<00:00, 927.18it/s]\n",
      " 50%|█████     | 50/100 [00:17<00:17,  2.94it/s]\n"
     ]
    },
    {
     "name": "stdout",
     "output_type": "stream",
     "text": [
      "Encoder initialization done!\n",
      "GMM initialization done!\n",
      "Cluster initialization done!\n"
     ]
    },
    {
     "name": "stderr",
     "output_type": "stream",
     "text": [
      " 50%|█████     | 50/100 [00:14<00:14,  3.45it/s]\n"
     ]
    },
    {
     "name": "stdout",
     "output_type": "stream",
     "text": [
      "Identifier initialization done!\n"
     ]
    },
    {
     "name": "stderr",
     "output_type": "stream",
     "text": [
      "100%|██████████| 100/100 [01:05<00:00,  1.52it/s]\n"
     ]
    },
    {
     "name": "stdout",
     "output_type": "stream",
     "text": [
      "AUCROC: \t0.76150, \t[0.87330938 0.74614323 0.75009547 0.67646861]\n",
      "F1-score: \t0.30837, \t[0.         0.49336609 0.74011858 0.        ]\n",
      "Recall: \t0.35185, \t[0.         0.76993865 0.63744681 0.        ]\n",
      "NMI: \t\t0.09654\n",
      "\n",
      "MIMIC data has been subsettted to the following features: \n",
      " ['DBP', 'ESI', 'HR', 'RR', 'SBP', 'SPO2', 'TEMP', 'age', 'gender'].\n"
     ]
    },
    {
     "name": "stderr",
     "output_type": "stream",
     "text": [
      "100%|██████████| 7701/7701 [00:08<00:00, 942.19it/s] \n",
      " 50%|█████     | 50/100 [00:16<00:16,  3.08it/s]\n"
     ]
    },
    {
     "name": "stdout",
     "output_type": "stream",
     "text": [
      "Encoder initialization done!\n",
      "GMM initialization done!\n",
      "Cluster initialization done!\n"
     ]
    },
    {
     "name": "stderr",
     "output_type": "stream",
     "text": [
      " 50%|█████     | 50/100 [00:13<00:13,  3.63it/s]\n"
     ]
    },
    {
     "name": "stdout",
     "output_type": "stream",
     "text": [
      "Identifier initialization done!\n"
     ]
    },
    {
     "name": "stderr",
     "output_type": "stream",
     "text": [
      "100%|██████████| 100/100 [01:00<00:00,  1.65it/s]\n"
     ]
    },
    {
     "name": "stdout",
     "output_type": "stream",
     "text": [
      "AUCROC: \t0.76916, \t[0.85604378 0.76135279 0.74322147 0.71600635]\n",
      "F1-score: \t0.32122, \t[0.         0.50436681 0.78052223 0.        ]\n",
      "Recall: \t0.35364, \t[0.         0.70858896 0.70595745 0.        ]\n",
      "NMI: \t\t0.10222\n",
      "\n",
      "MIMIC data has been subsettted to the following features: \n",
      " ['DBP', 'ESI', 'HR', 'RR', 'SBP', 'SPO2', 'TEMP', 'age', 'gender'].\n"
     ]
    },
    {
     "name": "stderr",
     "output_type": "stream",
     "text": [
      "100%|██████████| 7701/7701 [00:07<00:00, 1043.96it/s]\n",
      " 50%|█████     | 50/100 [00:15<00:15,  3.29it/s]\n"
     ]
    },
    {
     "name": "stdout",
     "output_type": "stream",
     "text": [
      "Encoder initialization done!\n",
      "GMM initialization done!\n",
      "Cluster initialization done!\n"
     ]
    },
    {
     "name": "stderr",
     "output_type": "stream",
     "text": [
      " 50%|█████     | 50/100 [00:13<00:13,  3.77it/s]\n"
     ]
    },
    {
     "name": "stdout",
     "output_type": "stream",
     "text": [
      "Identifier initialization done!\n"
     ]
    },
    {
     "name": "stderr",
     "output_type": "stream",
     "text": [
      "100%|██████████| 100/100 [01:01<00:00,  1.63it/s]\n"
     ]
    },
    {
     "name": "stdout",
     "output_type": "stream",
     "text": [
      "AUCROC: \t0.78896, \t[0.897754   0.7921817  0.76241959 0.70348518]\n",
      "F1-score: \t0.34122, \t[0.         0.52027972 0.84461638 0.        ]\n",
      "Recall: \t0.35168, \t[0.         0.57055215 0.83617021 0.        ]\n",
      "NMI: \t\t0.11839\n",
      "\n",
      "MIMIC data has been subsettted to the following features: \n",
      " ['DBP', 'ESI', 'HR', 'RR', 'SBP', 'SPO2', 'TEMP', 'age', 'gender'].\n"
     ]
    },
    {
     "name": "stderr",
     "output_type": "stream",
     "text": [
      "100%|██████████| 7701/7701 [00:07<00:00, 1016.79it/s]\n",
      " 50%|█████     | 50/100 [00:15<00:15,  3.28it/s]\n"
     ]
    },
    {
     "name": "stdout",
     "output_type": "stream",
     "text": [
      "Encoder initialization done!\n",
      "GMM initialization done!\n",
      "Cluster initialization done!\n"
     ]
    },
    {
     "name": "stderr",
     "output_type": "stream",
     "text": [
      " 50%|█████     | 50/100 [00:13<00:13,  3.70it/s]\n"
     ]
    },
    {
     "name": "stdout",
     "output_type": "stream",
     "text": [
      "Identifier initialization done!\n"
     ]
    },
    {
     "name": "stderr",
     "output_type": "stream",
     "text": [
      "100%|██████████| 100/100 [01:02<00:00,  1.60it/s]\n"
     ]
    },
    {
     "name": "stdout",
     "output_type": "stream",
     "text": [
      "AUCROC: \t0.71257, \t[0.79581836 0.73347549 0.72391711 0.59707624]\n",
      "F1-score: \t0.26046, \t[0.         0.45437334 0.58744916 0.        ]\n",
      "Recall: \t0.33761, \t[0.         0.9202454  0.43021277 0.        ]\n",
      "NMI: \t\t0.08580\n",
      "\n",
      "MIMIC data has been subsettted to the following features: \n",
      " ['DBP', 'ESI', 'HR', 'RR', 'SBP', 'SPO2', 'TEMP', 'age', 'gender'].\n"
     ]
    },
    {
     "name": "stderr",
     "output_type": "stream",
     "text": [
      "100%|██████████| 7701/7701 [00:07<00:00, 975.12it/s] \n",
      " 50%|█████     | 50/100 [00:15<00:15,  3.19it/s]\n"
     ]
    },
    {
     "name": "stdout",
     "output_type": "stream",
     "text": [
      "Encoder initialization done!\n",
      "GMM initialization done!\n",
      "Cluster initialization done!\n"
     ]
    },
    {
     "name": "stderr",
     "output_type": "stream",
     "text": [
      " 50%|█████     | 50/100 [00:13<00:13,  3.64it/s]\n"
     ]
    },
    {
     "name": "stdout",
     "output_type": "stream",
     "text": [
      "Identifier initialization done!\n"
     ]
    },
    {
     "name": "stderr",
     "output_type": "stream",
     "text": [
      "100%|██████████| 100/100 [01:04<00:00,  1.55it/s]\n"
     ]
    },
    {
     "name": "stdout",
     "output_type": "stream",
     "text": [
      "AUCROC: \t0.76113, \t[0.88952957 0.74632508 0.74476293 0.66388574]\n",
      "F1-score: \t0.32683, \t[0.         0.50090307 0.80642243 0.        ]\n",
      "Recall: \t0.34919, \t[0.         0.63803681 0.7587234  0.        ]\n",
      "NMI: \t\t0.09639\n",
      "\n",
      "MIMIC data has been subsettted to the following features: \n",
      " ['DBP', 'ESI', 'HR', 'RR', 'SBP', 'SPO2', 'TEMP', 'age', 'gender'].\n"
     ]
    },
    {
     "name": "stderr",
     "output_type": "stream",
     "text": [
      "100%|██████████| 7701/7701 [00:07<00:00, 1006.23it/s]\n",
      " 50%|█████     | 50/100 [00:15<00:15,  3.20it/s]\n"
     ]
    },
    {
     "name": "stdout",
     "output_type": "stream",
     "text": [
      "Encoder initialization done!\n",
      "GMM initialization done!\n",
      "Cluster initialization done!\n"
     ]
    },
    {
     "name": "stderr",
     "output_type": "stream",
     "text": [
      " 50%|█████     | 50/100 [00:13<00:13,  3.67it/s]\n"
     ]
    },
    {
     "name": "stdout",
     "output_type": "stream",
     "text": [
      "Identifier initialization done!\n"
     ]
    },
    {
     "name": "stderr",
     "output_type": "stream",
     "text": [
      "100%|██████████| 100/100 [01:03<00:00,  1.58it/s]\n"
     ]
    },
    {
     "name": "stdout",
     "output_type": "stream",
     "text": [
      "AUCROC: \t0.71563, \t[0.83163182 0.73196764 0.71706581 0.58186295]\n",
      "F1-score: \t0.30657, \t[0.         0.49381541 0.73247928 0.        ]\n",
      "Recall: \t0.35411, \t[0.         0.79601227 0.62042553 0.        ]\n",
      "NMI: \t\t0.09885\n",
      "\n",
      "MIMIC data has been subsettted to the following features: \n",
      " ['DBP', 'ESI', 'HR', 'RR', 'SBP', 'SPO2', 'TEMP', 'age', 'gender'].\n"
     ]
    },
    {
     "name": "stderr",
     "output_type": "stream",
     "text": [
      "100%|██████████| 7701/7701 [00:07<00:00, 973.13it/s] \n",
      " 50%|█████     | 50/100 [00:15<00:15,  3.21it/s]\n"
     ]
    },
    {
     "name": "stdout",
     "output_type": "stream",
     "text": [
      "Encoder initialization done!\n",
      "GMM initialization done!\n",
      "Cluster initialization done!\n"
     ]
    },
    {
     "name": "stderr",
     "output_type": "stream",
     "text": [
      " 50%|█████     | 50/100 [00:13<00:13,  3.69it/s]\n"
     ]
    },
    {
     "name": "stdout",
     "output_type": "stream",
     "text": [
      "Identifier initialization done!\n"
     ]
    },
    {
     "name": "stderr",
     "output_type": "stream",
     "text": [
      "100%|██████████| 100/100 [01:02<00:00,  1.60it/s]\n"
     ]
    },
    {
     "name": "stdout",
     "output_type": "stream",
     "text": [
      "AUCROC: \t0.78398, \t[0.89630023 0.7893731  0.7610941  0.68914402]\n",
      "F1-score: \t0.29156, \t[0.         0.48302872 0.68322325 0.        ]\n",
      "Recall: \t0.35036, \t[0.         0.85122699 0.55021277 0.        ]\n",
      "NMI: \t\t0.09962\n",
      "\n",
      "MIMIC data has been subsettted to the following features: \n",
      " ['DBP', 'ESI', 'HR', 'RR', 'SBP', 'SPO2', 'TEMP', 'age', 'gender'].\n"
     ]
    },
    {
     "name": "stderr",
     "output_type": "stream",
     "text": [
      "100%|██████████| 7701/7701 [00:08<00:00, 888.88it/s] \n",
      " 50%|█████     | 50/100 [00:17<00:17,  2.92it/s]\n"
     ]
    },
    {
     "name": "stdout",
     "output_type": "stream",
     "text": [
      "Encoder initialization done!\n",
      "GMM initialization done!\n",
      "Cluster initialization done!\n"
     ]
    },
    {
     "name": "stderr",
     "output_type": "stream",
     "text": [
      " 50%|█████     | 50/100 [00:14<00:14,  3.51it/s]\n"
     ]
    },
    {
     "name": "stdout",
     "output_type": "stream",
     "text": [
      "Identifier initialization done!\n"
     ]
    },
    {
     "name": "stderr",
     "output_type": "stream",
     "text": [
      "100%|██████████| 100/100 [01:03<00:00,  1.58it/s]\n"
     ]
    },
    {
     "name": "stdout",
     "output_type": "stream",
     "text": [
      "AUCROC: \t0.78280, \t[0.9336328  0.77473246 0.75094508 0.67189481]\n",
      "F1-score: \t0.33480, \t[0.         0.50138889 0.83782037 0.        ]\n",
      "Recall: \t0.34534, \t[0.         0.55368098 0.82765957 0.        ]\n",
      "NMI: \t\t0.11506\n",
      "\n",
      "MIMIC data has been subsettted to the following features: \n",
      " ['DBP', 'ESI', 'HR', 'RR', 'SBP', 'SPO2', 'TEMP', 'age', 'gender'].\n"
     ]
    },
    {
     "name": "stderr",
     "output_type": "stream",
     "text": [
      "100%|██████████| 7701/7701 [00:07<00:00, 979.43it/s] \n",
      " 50%|█████     | 50/100 [00:15<00:15,  3.19it/s]\n"
     ]
    },
    {
     "name": "stdout",
     "output_type": "stream",
     "text": [
      "Encoder initialization done!\n",
      "GMM initialization done!\n",
      "Cluster initialization done!\n"
     ]
    },
    {
     "name": "stderr",
     "output_type": "stream",
     "text": [
      " 50%|█████     | 50/100 [00:13<00:13,  3.63it/s]\n"
     ]
    },
    {
     "name": "stdout",
     "output_type": "stream",
     "text": [
      "Identifier initialization done!\n"
     ]
    },
    {
     "name": "stderr",
     "output_type": "stream",
     "text": [
      "100%|██████████| 100/100 [01:03<00:00,  1.58it/s]\n"
     ]
    },
    {
     "name": "stdout",
     "output_type": "stream",
     "text": [
      "AUCROC: \t0.68952, \t[0.73121529 0.70092372 0.67899031 0.646945  ]\n",
      "F1-score: \t0.30521, \t[0.         0.47270855 0.74812847 0.        ]\n",
      "Recall: \t0.34078, \t[0.         0.70398773 0.65914894 0.        ]\n",
      "NMI: \t\t0.08044\n",
      "\n",
      "MIMIC data has been subsettted to the following features: \n",
      " ['DBP', 'ESI', 'HR', 'RR', 'SBP', 'SPO2', 'TEMP', 'age', 'gender'].\n"
     ]
    },
    {
     "name": "stderr",
     "output_type": "stream",
     "text": [
      "100%|██████████| 7701/7701 [00:07<00:00, 988.57it/s] \n",
      " 50%|█████     | 50/100 [00:15<00:15,  3.26it/s]\n"
     ]
    },
    {
     "name": "stdout",
     "output_type": "stream",
     "text": [
      "Encoder initialization done!\n",
      "GMM initialization done!\n",
      "Cluster initialization done!\n"
     ]
    },
    {
     "name": "stderr",
     "output_type": "stream",
     "text": [
      " 50%|█████     | 50/100 [00:13<00:13,  3.69it/s]\n"
     ]
    },
    {
     "name": "stdout",
     "output_type": "stream",
     "text": [
      "Identifier initialization done!\n"
     ]
    },
    {
     "name": "stderr",
     "output_type": "stream",
     "text": [
      "100%|██████████| 100/100 [01:02<00:00,  1.60it/s]"
     ]
    },
    {
     "name": "stdout",
     "output_type": "stream",
     "text": [
      "AUCROC: \t0.76219, \t[0.90450016 0.76477608 0.72188229 0.65759571]\n",
      "F1-score: \t0.32129, \t[0.         0.51875397 0.69923134 0.06716418]\n",
      "Recall: \t0.38271, \t[0.         0.62576687 0.6        0.30508475]\n",
      "NMI: \t\t0.10344\n"
     ]
    },
    {
     "name": "stderr",
     "output_type": "stream",
     "text": [
      "\n"
     ]
    }
   ],
   "source": [
    "results = np.zeros((len(seeds), 4))\n",
    "for index, SEED in enumerate(seeds):\n",
    "    torch.random.manual_seed(SEED)\n",
    "    np.random.seed(SEED)\n",
    "    random.seed(SEED)\n",
    "\n",
    "    device = torch.device('cuda' if torch.cuda.is_available() else 'cpu')\n",
    "\n",
    "    train_dataset, val_dataset, test_dataset, train_loader, val_loader, test_loader = prepare_dataloader(SEED)\n",
    "\n",
    "    \n",
    "    model = CAMELOT_GMM(input_shape=(train_dataset.x.shape[1], train_dataset.x.shape[2]), seed=SEED, num_clusters=10, latent_dim=64)\n",
    "    model = train_loop(model, train_dataset, val_dataset, train_loader, val_loader, SEED=SEED)\n",
    "\n",
    "    real, preds = get_test_results(model, test_loader)\n",
    "\n",
    "    auc, f1, rec, nmi = calc_metrics(real, preds)\n",
    "\n",
    "    print(f'AUCROC: \\t{auc.mean():.5f}, \\t{auc}')\n",
    "    print(f'F1-score: \\t{f1.mean():.5f}, \\t{f1}')\n",
    "    print(f'Recall: \\t{rec.mean():.5f}, \\t{rec}')\n",
    "    print(f'NMI: \\t\\t{nmi:.5f}')\n",
    "    \n",
    "    results[index, 0] = auc.mean()\n",
    "    results[index, 1] = f1.mean()\n",
    "    results[index, 2] = rec.mean()\n",
    "    results[index, 3] = nmi"
   ]
  },
  {
   "cell_type": "code",
   "execution_count": 3,
   "metadata": {},
   "outputs": [
    {
     "name": "stdout",
     "output_type": "stream",
     "text": [
      "AUC: 0.753 (0.033)\n",
      "F1 score: 0.312 (0.022)\n",
      "Recall: 0.352 (0.012)\n",
      "NMI: 0.100 (0.011)\n"
     ]
    }
   ],
   "source": [
    "for m, u, std in zip(metrics, results.mean(axis=0), results.std(axis=0)):\n",
    "    print(f'{m}: {u:.3f} ({std:.3f})')"
   ]
  },
  {
   "attachments": {},
   "cell_type": "markdown",
   "metadata": {},
   "source": [
    "## 2. CAMELOT-GRU"
   ]
  },
  {
   "cell_type": "code",
   "execution_count": 4,
   "metadata": {},
   "outputs": [
    {
     "name": "stdout",
     "output_type": "stream",
     "text": [
      "\n",
      "MIMIC data has been subsettted to the following features: \n",
      " ['DBP', 'ESI', 'HR', 'RR', 'SBP', 'SPO2', 'TEMP', 'age', 'gender'].\n"
     ]
    },
    {
     "name": "stderr",
     "output_type": "stream",
     "text": [
      "100%|██████████| 7701/7701 [00:07<00:00, 994.67it/s] \n",
      " 50%|█████     | 50/100 [00:15<00:15,  3.27it/s]\n"
     ]
    },
    {
     "name": "stdout",
     "output_type": "stream",
     "text": [
      "Encoder initialization done!\n",
      "Kmeans initialization done!\n",
      "Cluster initialization done!\n"
     ]
    },
    {
     "name": "stderr",
     "output_type": "stream",
     "text": [
      " 50%|█████     | 50/100 [00:13<00:13,  3.67it/s]\n"
     ]
    },
    {
     "name": "stdout",
     "output_type": "stream",
     "text": [
      "Identifier initialization done!\n"
     ]
    },
    {
     "name": "stderr",
     "output_type": "stream",
     "text": [
      "100%|██████████| 100/100 [01:02<00:00,  1.61it/s]\n"
     ]
    },
    {
     "name": "stdout",
     "output_type": "stream",
     "text": [
      "AUCROC: \t0.77603, \t[0.89514864 0.78102213 0.75523212 0.67270525]\n",
      "F1-score: \t0.31894, \t[0.         0.50399574 0.77175464 0.        ]\n",
      "Recall: \t0.35402, \t[0.         0.72546012 0.6906383  0.        ]\n",
      "NMI: \t\t0.10374\n",
      "\n",
      "MIMIC data has been subsettted to the following features: \n",
      " ['DBP', 'ESI', 'HR', 'RR', 'SBP', 'SPO2', 'TEMP', 'age', 'gender'].\n"
     ]
    },
    {
     "name": "stderr",
     "output_type": "stream",
     "text": [
      "100%|██████████| 7701/7701 [00:07<00:00, 1013.83it/s]\n",
      " 50%|█████     | 50/100 [00:15<00:15,  3.28it/s]\n"
     ]
    },
    {
     "name": "stdout",
     "output_type": "stream",
     "text": [
      "Encoder initialization done!\n",
      "Kmeans initialization done!\n",
      "Cluster initialization done!\n"
     ]
    },
    {
     "name": "stderr",
     "output_type": "stream",
     "text": [
      " 50%|█████     | 50/100 [00:13<00:13,  3.58it/s]\n"
     ]
    },
    {
     "name": "stdout",
     "output_type": "stream",
     "text": [
      "Identifier initialization done!\n"
     ]
    },
    {
     "name": "stderr",
     "output_type": "stream",
     "text": [
      "100%|██████████| 100/100 [01:02<00:00,  1.61it/s]\n"
     ]
    },
    {
     "name": "stdout",
     "output_type": "stream",
     "text": [
      "AUCROC: \t0.77266, \t[0.86857236 0.76479534 0.74329889 0.71396202]\n",
      "F1-score: \t0.32022, \t[0.         0.49944873 0.78144765 0.        ]\n",
      "Recall: \t0.35114, \t[0.         0.69478528 0.70978723 0.        ]\n",
      "NMI: \t\t0.09820\n",
      "\n",
      "MIMIC data has been subsettted to the following features: \n",
      " ['DBP', 'ESI', 'HR', 'RR', 'SBP', 'SPO2', 'TEMP', 'age', 'gender'].\n"
     ]
    },
    {
     "name": "stderr",
     "output_type": "stream",
     "text": [
      "100%|██████████| 7701/7701 [00:07<00:00, 1015.72it/s]\n",
      " 50%|█████     | 50/100 [00:15<00:15,  3.21it/s]\n"
     ]
    },
    {
     "name": "stdout",
     "output_type": "stream",
     "text": [
      "Encoder initialization done!\n",
      "Kmeans initialization done!\n",
      "Cluster initialization done!\n"
     ]
    },
    {
     "name": "stderr",
     "output_type": "stream",
     "text": [
      " 50%|█████     | 50/100 [00:14<00:14,  3.55it/s]\n"
     ]
    },
    {
     "name": "stdout",
     "output_type": "stream",
     "text": [
      "Identifier initialization done!\n"
     ]
    },
    {
     "name": "stderr",
     "output_type": "stream",
     "text": [
      "100%|██████████| 100/100 [01:02<00:00,  1.60it/s]\n"
     ]
    },
    {
     "name": "stdout",
     "output_type": "stream",
     "text": [
      "AUCROC: \t0.72372, \t[0.81211205 0.72966355 0.7075382  0.64554846]\n",
      "F1-score: \t0.33977, \t[0.         0.5019305  0.85714286 0.        ]\n",
      "Recall: \t0.34291, \t[0.         0.49846626 0.87319149 0.        ]\n",
      "NMI: \t\t0.11679\n",
      "\n",
      "MIMIC data has been subsettted to the following features: \n",
      " ['DBP', 'ESI', 'HR', 'RR', 'SBP', 'SPO2', 'TEMP', 'age', 'gender'].\n"
     ]
    },
    {
     "name": "stderr",
     "output_type": "stream",
     "text": [
      "100%|██████████| 7701/7701 [00:07<00:00, 1021.66it/s]\n",
      " 50%|█████     | 50/100 [00:15<00:15,  3.18it/s]\n"
     ]
    },
    {
     "name": "stdout",
     "output_type": "stream",
     "text": [
      "Encoder initialization done!\n",
      "Kmeans initialization done!\n",
      "Cluster initialization done!\n"
     ]
    },
    {
     "name": "stderr",
     "output_type": "stream",
     "text": [
      " 50%|█████     | 50/100 [00:13<00:13,  3.61it/s]\n"
     ]
    },
    {
     "name": "stdout",
     "output_type": "stream",
     "text": [
      "Identifier initialization done!\n"
     ]
    },
    {
     "name": "stderr",
     "output_type": "stream",
     "text": [
      "100%|██████████| 100/100 [01:02<00:00,  1.60it/s]\n"
     ]
    },
    {
     "name": "stdout",
     "output_type": "stream",
     "text": [
      "AUCROC: \t0.66929, \t[0.76493793 0.67775657 0.66603865 0.56841075]\n",
      "F1-score: \t0.30802, \t[0.         0.47767394 0.75439019 0.        ]\n",
      "Recall: \t0.34319, \t[0.         0.70552147 0.66723404 0.        ]\n",
      "NMI: \t\t0.07875\n",
      "\n",
      "MIMIC data has been subsettted to the following features: \n",
      " ['DBP', 'ESI', 'HR', 'RR', 'SBP', 'SPO2', 'TEMP', 'age', 'gender'].\n"
     ]
    },
    {
     "name": "stderr",
     "output_type": "stream",
     "text": [
      "100%|██████████| 7701/7701 [00:07<00:00, 1020.23it/s]\n",
      " 50%|█████     | 50/100 [00:15<00:15,  3.20it/s]\n"
     ]
    },
    {
     "name": "stdout",
     "output_type": "stream",
     "text": [
      "Encoder initialization done!\n",
      "Kmeans initialization done!\n",
      "Cluster initialization done!\n"
     ]
    },
    {
     "name": "stderr",
     "output_type": "stream",
     "text": [
      " 50%|█████     | 50/100 [00:13<00:13,  3.63it/s]\n"
     ]
    },
    {
     "name": "stdout",
     "output_type": "stream",
     "text": [
      "Identifier initialization done!\n"
     ]
    },
    {
     "name": "stderr",
     "output_type": "stream",
     "text": [
      "100%|██████████| 100/100 [01:02<00:00,  1.60it/s]\n"
     ]
    },
    {
     "name": "stdout",
     "output_type": "stream",
     "text": [
      "AUCROC: \t0.70023, \t[0.86176086 0.65898101 0.68107227 0.59910655]\n",
      "F1-score: \t0.32549, \t[0.         0.44079516 0.86114495 0.        ]\n",
      "Recall: \t0.32341, \t[0.         0.39110429 0.90255319 0.        ]\n",
      "NMI: \t\t0.09788\n",
      "\n",
      "MIMIC data has been subsettted to the following features: \n",
      " ['DBP', 'ESI', 'HR', 'RR', 'SBP', 'SPO2', 'TEMP', 'age', 'gender'].\n"
     ]
    },
    {
     "name": "stderr",
     "output_type": "stream",
     "text": [
      "100%|██████████| 7701/7701 [00:07<00:00, 1021.36it/s]\n",
      " 50%|█████     | 50/100 [00:15<00:15,  3.21it/s]\n"
     ]
    },
    {
     "name": "stdout",
     "output_type": "stream",
     "text": [
      "Encoder initialization done!\n",
      "Kmeans initialization done!\n",
      "Cluster initialization done!\n"
     ]
    },
    {
     "name": "stderr",
     "output_type": "stream",
     "text": [
      " 50%|█████     | 50/100 [00:13<00:13,  3.63it/s]\n"
     ]
    },
    {
     "name": "stdout",
     "output_type": "stream",
     "text": [
      "Identifier initialization done!\n"
     ]
    },
    {
     "name": "stderr",
     "output_type": "stream",
     "text": [
      "100%|██████████| 100/100 [01:02<00:00,  1.60it/s]\n"
     ]
    },
    {
     "name": "stdout",
     "output_type": "stream",
     "text": [
      "AUCROC: \t0.76697, \t[0.91702058 0.75088905 0.75104811 0.64894166]\n",
      "F1-score: \t0.34470, \t[0.11627907 0.46982249 0.79269702 0.        ]\n",
      "Recall: \t0.39717, \t[0.25       0.60889571 0.72978723 0.        ]\n",
      "NMI: \t\t0.10480\n",
      "\n",
      "MIMIC data has been subsettted to the following features: \n",
      " ['DBP', 'ESI', 'HR', 'RR', 'SBP', 'SPO2', 'TEMP', 'age', 'gender'].\n"
     ]
    },
    {
     "name": "stderr",
     "output_type": "stream",
     "text": [
      "100%|██████████| 7701/7701 [00:07<00:00, 1013.18it/s]\n",
      " 50%|█████     | 50/100 [00:15<00:15,  3.20it/s]\n"
     ]
    },
    {
     "name": "stdout",
     "output_type": "stream",
     "text": [
      "Encoder initialization done!\n",
      "Kmeans initialization done!\n",
      "Cluster initialization done!\n"
     ]
    },
    {
     "name": "stderr",
     "output_type": "stream",
     "text": [
      " 50%|█████     | 50/100 [00:13<00:13,  3.66it/s]\n"
     ]
    },
    {
     "name": "stdout",
     "output_type": "stream",
     "text": [
      "Identifier initialization done!\n"
     ]
    },
    {
     "name": "stderr",
     "output_type": "stream",
     "text": [
      "100%|██████████| 100/100 [01:02<00:00,  1.60it/s]\n"
     ]
    },
    {
     "name": "stdout",
     "output_type": "stream",
     "text": [
      "AUCROC: \t0.78842, \t[0.8922411  0.78576669 0.75579329 0.71988469]\n",
      "F1-score: \t0.30718, \t[0.         0.49663138 0.73208489 0.        ]\n",
      "Recall: \t0.35381, \t[0.         0.79141104 0.62382979 0.        ]\n",
      "NMI: \t\t0.10594\n",
      "\n",
      "MIMIC data has been subsettted to the following features: \n",
      " ['DBP', 'ESI', 'HR', 'RR', 'SBP', 'SPO2', 'TEMP', 'age', 'gender'].\n"
     ]
    },
    {
     "name": "stderr",
     "output_type": "stream",
     "text": [
      "100%|██████████| 7701/7701 [00:07<00:00, 1017.62it/s]\n",
      " 50%|█████     | 50/100 [00:15<00:15,  3.24it/s]\n"
     ]
    },
    {
     "name": "stdout",
     "output_type": "stream",
     "text": [
      "Encoder initialization done!\n",
      "Kmeans initialization done!\n",
      "Cluster initialization done!\n"
     ]
    },
    {
     "name": "stderr",
     "output_type": "stream",
     "text": [
      " 50%|█████     | 50/100 [00:13<00:13,  3.60it/s]\n"
     ]
    },
    {
     "name": "stdout",
     "output_type": "stream",
     "text": [
      "Identifier initialization done!\n"
     ]
    },
    {
     "name": "stderr",
     "output_type": "stream",
     "text": [
      "100%|██████████| 100/100 [01:02<00:00,  1.59it/s]\n"
     ]
    },
    {
     "name": "stdout",
     "output_type": "stream",
     "text": [
      "AUCROC: \t0.77861, \t[0.91915224 0.76562693 0.77365137 0.65601409]\n",
      "F1-score: \t0.32425, \t[0.         0.52944137 0.76757812 0.        ]\n",
      "Recall: \t0.36892, \t[0.         0.80674847 0.66893617 0.        ]\n",
      "NMI: \t\t0.13080\n",
      "\n",
      "MIMIC data has been subsettted to the following features: \n",
      " ['DBP', 'ESI', 'HR', 'RR', 'SBP', 'SPO2', 'TEMP', 'age', 'gender'].\n"
     ]
    },
    {
     "name": "stderr",
     "output_type": "stream",
     "text": [
      "100%|██████████| 7701/7701 [00:07<00:00, 1034.21it/s]\n",
      " 50%|█████     | 50/100 [00:15<00:15,  3.21it/s]\n"
     ]
    },
    {
     "name": "stdout",
     "output_type": "stream",
     "text": [
      "Encoder initialization done!\n",
      "Kmeans initialization done!\n",
      "Cluster initialization done!\n"
     ]
    },
    {
     "name": "stderr",
     "output_type": "stream",
     "text": [
      " 50%|█████     | 50/100 [00:13<00:13,  3.68it/s]\n"
     ]
    },
    {
     "name": "stdout",
     "output_type": "stream",
     "text": [
      "Identifier initialization done!\n"
     ]
    },
    {
     "name": "stderr",
     "output_type": "stream",
     "text": [
      "100%|██████████| 100/100 [01:01<00:00,  1.61it/s]\n"
     ]
    },
    {
     "name": "stdout",
     "output_type": "stream",
     "text": [
      "AUCROC: \t0.78459, \t[0.9300392  0.79714474 0.77515208 0.63603069]\n",
      "F1-score: \t0.34450, \t[0.         0.53856209 0.83944652 0.        ]\n",
      "Recall: \t0.36127, \t[0.         0.63190184 0.81319149 0.        ]\n",
      "NMI: \t\t0.13547\n",
      "\n",
      "MIMIC data has been subsettted to the following features: \n",
      " ['DBP', 'ESI', 'HR', 'RR', 'SBP', 'SPO2', 'TEMP', 'age', 'gender'].\n"
     ]
    },
    {
     "name": "stderr",
     "output_type": "stream",
     "text": [
      "100%|██████████| 7701/7701 [00:07<00:00, 1023.71it/s]\n",
      " 50%|█████     | 50/100 [00:15<00:15,  3.16it/s]\n"
     ]
    },
    {
     "name": "stdout",
     "output_type": "stream",
     "text": [
      "Encoder initialization done!\n",
      "Kmeans initialization done!\n",
      "Cluster initialization done!\n"
     ]
    },
    {
     "name": "stderr",
     "output_type": "stream",
     "text": [
      " 50%|█████     | 50/100 [00:14<00:14,  3.56it/s]\n"
     ]
    },
    {
     "name": "stdout",
     "output_type": "stream",
     "text": [
      "Identifier initialization done!\n"
     ]
    },
    {
     "name": "stderr",
     "output_type": "stream",
     "text": [
      "100%|██████████| 100/100 [01:02<00:00,  1.61it/s]"
     ]
    },
    {
     "name": "stdout",
     "output_type": "stream",
     "text": [
      "AUCROC: \t0.75889, \t[0.87947566 0.78146824 0.70231481 0.67229302]\n",
      "F1-score: \t0.31979, \t[0.         0.49584488 0.72354623 0.05976096]\n",
      "Recall: \t0.36232, \t[0.         0.54907975 0.64595745 0.25423729]\n",
      "NMI: \t\t0.09401\n"
     ]
    },
    {
     "name": "stderr",
     "output_type": "stream",
     "text": [
      "\n"
     ]
    }
   ],
   "source": [
    "results = np.zeros((len(seeds), 4))\n",
    "for index, SEED in enumerate(seeds):\n",
    "    torch.random.manual_seed(SEED)\n",
    "    np.random.seed(SEED)\n",
    "    random.seed(SEED)\n",
    "\n",
    "    device = torch.device('cuda' if torch.cuda.is_available() else 'cpu')\n",
    "\n",
    "    train_dataset, val_dataset, test_dataset, train_loader, val_loader, test_loader = prepare_dataloader(SEED)\n",
    "\n",
    "    \n",
    "    model = CAMELOT_GRU(input_shape=(train_dataset.x.shape[1], train_dataset.x.shape[2]), seed=SEED, num_clusters=10, latent_dim=64)\n",
    "    model = train_loop(model, train_dataset, val_dataset, train_loader, val_loader, SEED=SEED)\n",
    "\n",
    "    real, preds = get_test_results(model, test_loader)\n",
    "\n",
    "    auc, f1, rec, nmi = calc_metrics(real, preds)\n",
    "\n",
    "    print(f'AUCROC: \\t{auc.mean():.5f}, \\t{auc}')\n",
    "    print(f'F1-score: \\t{f1.mean():.5f}, \\t{f1}')\n",
    "    print(f'Recall: \\t{rec.mean():.5f}, \\t{rec}')\n",
    "    print(f'NMI: \\t\\t{nmi:.5f}')\n",
    "    \n",
    "    results[index, 0] = auc.mean()\n",
    "    results[index, 1] = f1.mean()\n",
    "    results[index, 2] = rec.mean()\n",
    "    results[index, 3] = nmi"
   ]
  },
  {
   "cell_type": "code",
   "execution_count": 5,
   "metadata": {},
   "outputs": [
    {
     "name": "stdout",
     "output_type": "stream",
     "text": [
      "AUC: 0.752 (0.038)\n",
      "F1 score: 0.325 (0.013)\n",
      "Recall: 0.356 (0.018)\n",
      "NMI: 0.107 (0.016)\n"
     ]
    }
   ],
   "source": [
    "for m, u, std in zip(metrics, results.mean(axis=0), results.std(axis=0)):\n",
    "    print(f'{m}: {u:.3f} ({std:.3f})')"
   ]
  },
  {
   "attachments": {},
   "cell_type": "markdown",
   "metadata": {},
   "source": [
    "## 3. CAMELOT-Denoising"
   ]
  },
  {
   "cell_type": "code",
   "execution_count": 7,
   "metadata": {},
   "outputs": [
    {
     "name": "stdout",
     "output_type": "stream",
     "text": [
      "\n",
      "MIMIC data has been subsettted to the following features: \n",
      " ['DBP', 'ESI', 'HR', 'RR', 'SBP', 'SPO2', 'TEMP', 'age', 'gender'].\n"
     ]
    },
    {
     "name": "stderr",
     "output_type": "stream",
     "text": [
      "100%|██████████| 7701/7701 [00:08<00:00, 957.62it/s] \n",
      " 50%|█████     | 50/100 [00:15<00:15,  3.19it/s]\n"
     ]
    },
    {
     "name": "stdout",
     "output_type": "stream",
     "text": [
      "Encoder initialization done!\n",
      "Kmeans initialization done!\n",
      "Cluster initialization done!\n"
     ]
    },
    {
     "name": "stderr",
     "output_type": "stream",
     "text": [
      " 50%|█████     | 50/100 [00:14<00:14,  3.55it/s]\n"
     ]
    },
    {
     "name": "stdout",
     "output_type": "stream",
     "text": [
      "Identifier initialization done!\n"
     ]
    },
    {
     "name": "stderr",
     "output_type": "stream",
     "text": [
      "100%|██████████| 100/100 [01:06<00:00,  1.49it/s]\n"
     ]
    },
    {
     "name": "stdout",
     "output_type": "stream",
     "text": [
      "AUCROC: \t0.76964, \t[0.88454753 0.77509396 0.74972145 0.66919988]\n",
      "F1-score: \t0.32766, \t[0.         0.47773852 0.83290488 0.        ]\n",
      "Recall: \t0.33641, \t[0.         0.51840491 0.82723404 0.        ]\n",
      "NMI: \t\t0.09705\n",
      "\n",
      "MIMIC data has been subsettted to the following features: \n",
      " ['DBP', 'ESI', 'HR', 'RR', 'SBP', 'SPO2', 'TEMP', 'age', 'gender'].\n"
     ]
    },
    {
     "name": "stderr",
     "output_type": "stream",
     "text": [
      "100%|██████████| 7701/7701 [00:08<00:00, 926.51it/s] \n",
      " 50%|█████     | 50/100 [00:16<00:16,  3.09it/s]\n"
     ]
    },
    {
     "name": "stdout",
     "output_type": "stream",
     "text": [
      "Encoder initialization done!\n",
      "Kmeans initialization done!\n",
      "Cluster initialization done!\n"
     ]
    },
    {
     "name": "stderr",
     "output_type": "stream",
     "text": [
      " 50%|█████     | 50/100 [00:14<00:14,  3.49it/s]\n"
     ]
    },
    {
     "name": "stdout",
     "output_type": "stream",
     "text": [
      "Identifier initialization done!\n"
     ]
    },
    {
     "name": "stderr",
     "output_type": "stream",
     "text": [
      "100%|██████████| 100/100 [01:05<00:00,  1.53it/s]\n"
     ]
    },
    {
     "name": "stdout",
     "output_type": "stream",
     "text": [
      "AUCROC: \t0.77002, \t[0.86082979 0.77468132 0.74366126 0.70090242]\n",
      "F1-score: \t0.32363, \t[0.         0.50086157 0.79364348 0.        ]\n",
      "Recall: \t0.35048, \t[0.         0.66871166 0.73319149 0.        ]\n",
      "NMI: \t\t0.09970\n",
      "\n",
      "MIMIC data has been subsettted to the following features: \n",
      " ['DBP', 'ESI', 'HR', 'RR', 'SBP', 'SPO2', 'TEMP', 'age', 'gender'].\n"
     ]
    },
    {
     "name": "stderr",
     "output_type": "stream",
     "text": [
      "100%|██████████| 7701/7701 [00:07<00:00, 1032.73it/s]\n",
      " 50%|█████     | 50/100 [00:15<00:15,  3.23it/s]\n"
     ]
    },
    {
     "name": "stdout",
     "output_type": "stream",
     "text": [
      "Encoder initialization done!\n",
      "Kmeans initialization done!\n",
      "Cluster initialization done!\n"
     ]
    },
    {
     "name": "stderr",
     "output_type": "stream",
     "text": [
      " 50%|█████     | 50/100 [00:13<00:13,  3.71it/s]\n"
     ]
    },
    {
     "name": "stdout",
     "output_type": "stream",
     "text": [
      "Identifier initialization done!\n"
     ]
    },
    {
     "name": "stderr",
     "output_type": "stream",
     "text": [
      "100%|██████████| 100/100 [01:03<00:00,  1.57it/s]\n"
     ]
    },
    {
     "name": "stdout",
     "output_type": "stream",
     "text": [
      "AUCROC: \t0.78211, \t[0.86700425 0.79689343 0.76620485 0.69833649]\n",
      "F1-score: \t0.32495, \t[0.         0.52067869 0.77912795 0.        ]\n",
      "Recall: \t0.36220, \t[0.         0.75306748 0.69574468 0.        ]\n",
      "NMI: \t\t0.11461\n",
      "\n",
      "MIMIC data has been subsettted to the following features: \n",
      " ['DBP', 'ESI', 'HR', 'RR', 'SBP', 'SPO2', 'TEMP', 'age', 'gender'].\n"
     ]
    },
    {
     "name": "stderr",
     "output_type": "stream",
     "text": [
      "100%|██████████| 7701/7701 [00:07<00:00, 1021.13it/s]\n",
      " 50%|█████     | 50/100 [00:15<00:15,  3.24it/s]\n"
     ]
    },
    {
     "name": "stdout",
     "output_type": "stream",
     "text": [
      "Encoder initialization done!\n",
      "Kmeans initialization done!\n",
      "Cluster initialization done!\n"
     ]
    },
    {
     "name": "stderr",
     "output_type": "stream",
     "text": [
      " 50%|█████     | 50/100 [00:14<00:14,  3.49it/s]\n"
     ]
    },
    {
     "name": "stdout",
     "output_type": "stream",
     "text": [
      "Identifier initialization done!\n"
     ]
    },
    {
     "name": "stderr",
     "output_type": "stream",
     "text": [
      "100%|██████████| 100/100 [01:05<00:00,  1.53it/s]\n"
     ]
    },
    {
     "name": "stdout",
     "output_type": "stream",
     "text": [
      "AUCROC: \t0.76448, \t[0.91054394 0.75486548 0.76422592 0.62827962]\n",
      "F1-score: \t0.31576, \t[0.         0.4966022  0.76642686 0.        ]\n",
      "Recall: \t0.35213, \t[0.         0.72852761 0.68       0.        ]\n",
      "NMI: \t\t0.09479\n",
      "\n",
      "MIMIC data has been subsettted to the following features: \n",
      " ['DBP', 'ESI', 'HR', 'RR', 'SBP', 'SPO2', 'TEMP', 'age', 'gender'].\n"
     ]
    },
    {
     "name": "stderr",
     "output_type": "stream",
     "text": [
      "100%|██████████| 7701/7701 [00:07<00:00, 1005.41it/s]\n",
      " 50%|█████     | 50/100 [00:15<00:15,  3.17it/s]\n"
     ]
    },
    {
     "name": "stdout",
     "output_type": "stream",
     "text": [
      "Encoder initialization done!\n",
      "Kmeans initialization done!\n",
      "Cluster initialization done!\n"
     ]
    },
    {
     "name": "stderr",
     "output_type": "stream",
     "text": [
      " 50%|█████     | 50/100 [00:13<00:13,  3.61it/s]\n"
     ]
    },
    {
     "name": "stdout",
     "output_type": "stream",
     "text": [
      "Identifier initialization done!\n"
     ]
    },
    {
     "name": "stderr",
     "output_type": "stream",
     "text": [
      "100%|██████████| 100/100 [01:05<00:00,  1.53it/s]\n"
     ]
    },
    {
     "name": "stdout",
     "output_type": "stream",
     "text": [
      "AUCROC: \t0.76410, \t[0.89980399 0.76750607 0.71100795 0.67810071]\n",
      "F1-score: \t0.32672, \t[0.         0.50640279 0.80045819 0.        ]\n",
      "Recall: \t0.35265, \t[0.         0.66717791 0.74340426 0.        ]\n",
      "NMI: \t\t0.10108\n",
      "\n",
      "MIMIC data has been subsettted to the following features: \n",
      " ['DBP', 'ESI', 'HR', 'RR', 'SBP', 'SPO2', 'TEMP', 'age', 'gender'].\n"
     ]
    },
    {
     "name": "stderr",
     "output_type": "stream",
     "text": [
      "100%|██████████| 7701/7701 [00:07<00:00, 984.14it/s] \n",
      " 50%|█████     | 50/100 [00:15<00:15,  3.15it/s]\n"
     ]
    },
    {
     "name": "stdout",
     "output_type": "stream",
     "text": [
      "Encoder initialization done!\n",
      "Kmeans initialization done!\n",
      "Cluster initialization done!\n"
     ]
    },
    {
     "name": "stderr",
     "output_type": "stream",
     "text": [
      " 50%|█████     | 50/100 [00:14<00:14,  3.52it/s]\n"
     ]
    },
    {
     "name": "stdout",
     "output_type": "stream",
     "text": [
      "Identifier initialization done!\n"
     ]
    },
    {
     "name": "stderr",
     "output_type": "stream",
     "text": [
      "100%|██████████| 100/100 [01:05<00:00,  1.53it/s]\n"
     ]
    },
    {
     "name": "stdout",
     "output_type": "stream",
     "text": [
      "AUCROC: \t0.74844, \t[0.91978112 0.7388679  0.73678872 0.59832415]\n",
      "F1-score: \t0.29412, \t[0.         0.46507267 0.71139241 0.        ]\n",
      "Recall: \t0.33965, \t[0.         0.7607362  0.59787234 0.        ]\n",
      "NMI: \t\t0.07442\n",
      "\n",
      "MIMIC data has been subsettted to the following features: \n",
      " ['DBP', 'ESI', 'HR', 'RR', 'SBP', 'SPO2', 'TEMP', 'age', 'gender'].\n"
     ]
    },
    {
     "name": "stderr",
     "output_type": "stream",
     "text": [
      "100%|██████████| 7701/7701 [00:07<00:00, 978.78it/s] \n",
      " 50%|█████     | 50/100 [00:16<00:16,  3.10it/s]\n"
     ]
    },
    {
     "name": "stdout",
     "output_type": "stream",
     "text": [
      "Encoder initialization done!\n",
      "Kmeans initialization done!\n",
      "Cluster initialization done!\n"
     ]
    },
    {
     "name": "stderr",
     "output_type": "stream",
     "text": [
      " 50%|█████     | 50/100 [00:13<00:13,  3.62it/s]\n"
     ]
    },
    {
     "name": "stdout",
     "output_type": "stream",
     "text": [
      "Identifier initialization done!\n"
     ]
    },
    {
     "name": "stderr",
     "output_type": "stream",
     "text": [
      "100%|██████████| 100/100 [01:04<00:00,  1.54it/s]\n"
     ]
    },
    {
     "name": "stdout",
     "output_type": "stream",
     "text": [
      "AUCROC: \t0.78677, \t[0.91479909 0.78872715 0.76213988 0.6814294 ]\n",
      "F1-score: \t0.32288, \t[0.         0.50845608 0.78305882 0.        ]\n",
      "Recall: \t0.35570, \t[0.         0.71472393 0.70808511 0.        ]\n",
      "NMI: \t\t0.10751\n",
      "\n",
      "MIMIC data has been subsettted to the following features: \n",
      " ['DBP', 'ESI', 'HR', 'RR', 'SBP', 'SPO2', 'TEMP', 'age', 'gender'].\n"
     ]
    },
    {
     "name": "stderr",
     "output_type": "stream",
     "text": [
      "100%|██████████| 7701/7701 [00:07<00:00, 985.47it/s] \n",
      " 50%|█████     | 50/100 [00:15<00:15,  3.16it/s]\n"
     ]
    },
    {
     "name": "stdout",
     "output_type": "stream",
     "text": [
      "Encoder initialization done!\n",
      "Kmeans initialization done!\n",
      "Cluster initialization done!\n"
     ]
    },
    {
     "name": "stderr",
     "output_type": "stream",
     "text": [
      " 50%|█████     | 50/100 [00:13<00:13,  3.60it/s]\n"
     ]
    },
    {
     "name": "stdout",
     "output_type": "stream",
     "text": [
      "Identifier initialization done!\n"
     ]
    },
    {
     "name": "stderr",
     "output_type": "stream",
     "text": [
      "100%|██████████| 100/100 [01:06<00:00,  1.50it/s]\n"
     ]
    },
    {
     "name": "stdout",
     "output_type": "stream",
     "text": [
      "AUCROC: \t0.77558, \t[0.92415877 0.76705681 0.75517944 0.65592155]\n",
      "F1-score: \t0.32057, \t[0.         0.50589496 0.77638131 0.        ]\n",
      "Recall: \t0.35513, \t[0.         0.72392638 0.69659574 0.        ]\n",
      "NMI: \t\t0.10583\n",
      "\n",
      "MIMIC data has been subsettted to the following features: \n",
      " ['DBP', 'ESI', 'HR', 'RR', 'SBP', 'SPO2', 'TEMP', 'age', 'gender'].\n"
     ]
    },
    {
     "name": "stderr",
     "output_type": "stream",
     "text": [
      "100%|██████████| 7701/7701 [00:07<00:00, 965.72it/s] \n",
      " 50%|█████     | 50/100 [00:15<00:15,  3.16it/s]\n"
     ]
    },
    {
     "name": "stdout",
     "output_type": "stream",
     "text": [
      "Encoder initialization done!\n",
      "Kmeans initialization done!\n",
      "Cluster initialization done!\n"
     ]
    },
    {
     "name": "stderr",
     "output_type": "stream",
     "text": [
      " 50%|█████     | 50/100 [00:13<00:13,  3.58it/s]\n"
     ]
    },
    {
     "name": "stdout",
     "output_type": "stream",
     "text": [
      "Identifier initialization done!\n"
     ]
    },
    {
     "name": "stderr",
     "output_type": "stream",
     "text": [
      "100%|██████████| 100/100 [01:07<00:00,  1.49it/s]\n"
     ]
    },
    {
     "name": "stdout",
     "output_type": "stream",
     "text": [
      "AUCROC: \t0.76392, \t[0.91100131 0.75798379 0.7369718  0.64973808]\n",
      "F1-score: \t0.31887, \t[0.         0.48561565 0.78987342 0.        ]\n",
      "Recall: \t0.34436, \t[0.         0.64723926 0.73021277 0.        ]\n",
      "NMI: \t\t0.09001\n",
      "\n",
      "MIMIC data has been subsettted to the following features: \n",
      " ['DBP', 'ESI', 'HR', 'RR', 'SBP', 'SPO2', 'TEMP', 'age', 'gender'].\n"
     ]
    },
    {
     "name": "stderr",
     "output_type": "stream",
     "text": [
      "100%|██████████| 7701/7701 [00:08<00:00, 934.92it/s]\n",
      " 50%|█████     | 50/100 [00:16<00:16,  3.04it/s]\n"
     ]
    },
    {
     "name": "stdout",
     "output_type": "stream",
     "text": [
      "Encoder initialization done!\n",
      "Kmeans initialization done!\n",
      "Cluster initialization done!\n"
     ]
    },
    {
     "name": "stderr",
     "output_type": "stream",
     "text": [
      " 50%|█████     | 50/100 [00:13<00:13,  3.59it/s]\n"
     ]
    },
    {
     "name": "stdout",
     "output_type": "stream",
     "text": [
      "Identifier initialization done!\n"
     ]
    },
    {
     "name": "stderr",
     "output_type": "stream",
     "text": [
      "100%|██████████| 100/100 [01:04<00:00,  1.54it/s]"
     ]
    },
    {
     "name": "stdout",
     "output_type": "stream",
     "text": [
      "AUCROC: \t0.76895, \t[0.90416531 0.76099035 0.74960241 0.66103938]\n",
      "F1-score: \t0.31588, \t[0.         0.49328318 0.77025107 0.        ]\n",
      "Recall: \t0.34898, \t[0.         0.70398773 0.69191489 0.        ]\n",
      "NMI: \t\t0.09435\n"
     ]
    },
    {
     "name": "stderr",
     "output_type": "stream",
     "text": [
      "\n"
     ]
    }
   ],
   "source": [
    "results = np.zeros((len(seeds), 4))\n",
    "for index, SEED in enumerate(seeds):\n",
    "    torch.random.manual_seed(SEED)\n",
    "    np.random.seed(SEED)\n",
    "    random.seed(SEED)\n",
    "\n",
    "    device = torch.device('cuda' if torch.cuda.is_available() else 'cpu')\n",
    "\n",
    "    train_dataset, val_dataset, test_dataset, train_loader, val_loader, test_loader = prepare_dataloader(SEED)\n",
    "\n",
    "    \n",
    "    model = CAMELOT_Denoising(input_shape=(train_dataset.x.shape[1], train_dataset.x.shape[2]), seed=SEED, num_clusters=10, latent_dim=64)\n",
    "    model = train_loop(model, train_dataset, val_dataset, train_loader, val_loader, SEED=SEED)\n",
    "\n",
    "    real, preds = get_test_results(model, test_loader)\n",
    "\n",
    "    auc, f1, rec, nmi = calc_metrics(real, preds)\n",
    "\n",
    "    print(f'AUCROC: \\t{auc.mean():.5f}, \\t{auc}')\n",
    "    print(f'F1-score: \\t{f1.mean():.5f}, \\t{f1}')\n",
    "    print(f'Recall: \\t{rec.mean():.5f}, \\t{rec}')\n",
    "    print(f'NMI: \\t\\t{nmi:.5f}')\n",
    "    \n",
    "    results[index, 0] = auc.mean()\n",
    "    results[index, 1] = f1.mean()\n",
    "    results[index, 2] = rec.mean()\n",
    "    results[index, 3] = nmi"
   ]
  },
  {
   "cell_type": "code",
   "execution_count": 9,
   "metadata": {},
   "outputs": [
    {
     "name": "stdout",
     "output_type": "stream",
     "text": [
      "AUC: 0.769 (0.010)\n",
      "F1 score: 0.319 (0.009)\n",
      "Recall: 0.350 (0.007)\n",
      "NMI: 0.098 (0.010)\n"
     ]
    }
   ],
   "source": [
    "for m, u, std in zip(metrics, results.mean(axis=0), results.std(axis=0)):\n",
    "    print(f'{m}: {u:.3f} ({std:.3f})')"
   ]
  },
  {
   "cell_type": "code",
   "execution_count": null,
   "metadata": {},
   "outputs": [],
   "source": []
  }
 ],
 "metadata": {
  "kernelspec": {
   "display_name": "Python 3",
   "language": "python",
   "name": "python3"
  },
  "language_info": {
   "codemirror_mode": {
    "name": "ipython",
    "version": 3
   },
   "file_extension": ".py",
   "mimetype": "text/x-python",
   "name": "python",
   "nbconvert_exporter": "python",
   "pygments_lexer": "ipython3",
   "version": "3.9.13"
  },
  "orig_nbformat": 4
 },
 "nbformat": 4,
 "nbformat_minor": 2
}
