{
 "cells": [
  {
   "cell_type": "code",
   "execution_count": 49,
   "metadata": {},
   "outputs": [
    {
     "name": "stdout",
     "output_type": "stream",
     "text": [
      "AUC T-test\n"
     ]
    }
   ],
   "source": [
    "from scipy.stats import t\n",
    "from scipy.stats import ttest_ind_from_stats\n",
    "print(\"AUC T-test\")"
   ]
  },
  {
   "cell_type": "code",
   "execution_count": 50,
   "metadata": {},
   "outputs": [],
   "source": [
    "# # Sample sizes\n",
    "# n1 = 10\n",
    "# n2 = 10\n",
    "\n",
    "# # Means\n",
    "# mean1 = 0.72\n",
    "# mean2 = 0.771\n",
    "\n",
    "# # Standard deviations\n",
    "# std1 = 0.02\n",
    "# std2 = 0.023\n",
    "\n",
    "# # Degrees of freedom\n",
    "# df = ((std1**2/n1) + (std2**2/n2))**2 / (((std1**2/n1)**2/(n1-1))+((std2**2/n2)**2/(n2-1)))\n",
    "\n",
    "# # Calculate t-statistic\n",
    "# t_stat = (mean1 - mean2) / ((std1**2/n1) + (std2**2/n2)) ** 0.5\n",
    "\n",
    "# # Calculate p-value\n",
    "# p_value = 2 * t.sf(abs(t_stat), df)\n",
    "\n",
    "# # Print results\n",
    "# print(\"Original CAMELOT VS CAMELOT\")\n",
    "# print(\"t-statistic: \", t_stat)\n",
    "# print(\"p-value: \", p_value)\n"
   ]
  },
  {
   "cell_type": "code",
   "execution_count": 51,
   "metadata": {},
   "outputs": [
    {
     "name": "stdout",
     "output_type": "stream",
     "text": [
      "Original CAMELOT VS CAMELOT\n",
      "t-statistic:  -5.291299192775858\n",
      "p-value:  4.963919724076199e-05\n"
     ]
    }
   ],
   "source": [
    "# Sample sizes\n",
    "n1 = 10\n",
    "n2 = 10\n",
    "\n",
    "# Means\n",
    "mean1 = 0.72\n",
    "mean2 = 0.771\n",
    "\n",
    "# Standard deviations\n",
    "std1 = 0.02\n",
    "std2 = 0.023\n",
    "\n",
    "# Degrees of freedom\n",
    "# df = ((std1**2/n1) + (std2**2/n2))**2 / (((std1**2/n1)**2/(n1-1))+((std2**2/n2)**2/(n2-1)))\n",
    "\n",
    "# # Calculate pooled standard deviation\n",
    "# # s_p = ((n1 - 1) * std1 ** 2 + (n2 - 1) * std2 ** 2) / df ** 0.5\n",
    "\n",
    "# # Calculate t-statistic\n",
    "# t_stat = (mean1 - mean2) / ((std1**2/n1) + (std2**2/n2)) ** 0.5\n",
    "\n",
    "# # Calculate p-value\n",
    "# p_value = 2 * t.sf(abs(t_stat), df)\n",
    "\n",
    "t_stat, p_value = ttest_ind_from_stats(mean1=mean1, std1=std1, nobs1=n1, \n",
    "                                       mean2=mean2, std2=std2, nobs2=n2)\n",
    "\n",
    "# Print results\n",
    "print(\"Original CAMELOT VS CAMELOT\")\n",
    "print(\"t-statistic: \", t_stat)\n",
    "print(\"p-value: \", p_value)\n"
   ]
  },
  {
   "cell_type": "code",
   "execution_count": 52,
   "metadata": {},
   "outputs": [
    {
     "name": "stdout",
     "output_type": "stream",
     "text": [
      "Original CAMELOT VS CAMELOT-GMM\n",
      "t-statistic:  -5.502358829976829\n",
      "p-value:  3.171922894382801e-05\n"
     ]
    }
   ],
   "source": [
    "# Sample sizes\n",
    "n1 = 10\n",
    "n2 = 10\n",
    "\n",
    "# Means\n",
    "mean1 = 0.72\n",
    "mean2 = 0.768\n",
    "\n",
    "# Standard deviations\n",
    "std1 = 0.02\n",
    "std2 = 0.019\n",
    "\n",
    "t_stat, p_value = ttest_ind_from_stats(mean1=mean1, std1=std1, nobs1=n1, \n",
    "                                       mean2=mean2, std2=std2, nobs2=n2)\n",
    "\n",
    "# Print results\n",
    "print(\"Original CAMELOT VS CAMELOT-GMM\")\n",
    "print(\"t-statistic: \", t_stat)\n",
    "print(\"p-value: \", p_value)\n"
   ]
  },
  {
   "cell_type": "code",
   "execution_count": 53,
   "metadata": {},
   "outputs": [
    {
     "name": "stdout",
     "output_type": "stream",
     "text": [
      "Original CAMELOT VS CAMELOT-GRU\n",
      "t-statistic:  -5.043828927478759\n",
      "p-value:  8.44475320280737e-05\n"
     ]
    }
   ],
   "source": [
    "# Sample sizes\n",
    "n1 = 10\n",
    "n2 = 10\n",
    "\n",
    "# Means\n",
    "mean1 = 0.72\n",
    "mean2 = 0.764\n",
    "\n",
    "# Standard deviations\n",
    "std1 = 0.02\n",
    "std2 = 0.019\n",
    "\n",
    "t_stat, p_value = ttest_ind_from_stats(mean1=mean1, std1=std1, nobs1=n1, \n",
    "                                       mean2=mean2, std2=std2, nobs2=n2)\n",
    "\n",
    "# Print results\n",
    "print(\"Original CAMELOT VS CAMELOT-GRU\")\n",
    "print(\"t-statistic: \", t_stat)\n",
    "print(\"p-value: \", p_value)\n"
   ]
  },
  {
   "cell_type": "code",
   "execution_count": 54,
   "metadata": {},
   "outputs": [
    {
     "name": "stdout",
     "output_type": "stream",
     "text": [
      "Original CAMELOT VS CAMELOT-Denoising\n",
      "t-statistic:  -6.344247808013201\n",
      "p-value:  5.6117539268478895e-06\n"
     ]
    }
   ],
   "source": [
    "# Sample sizes\n",
    "n1 = 10\n",
    "n2 = 10\n",
    "\n",
    "# Means\n",
    "mean1 = 0.72\n",
    "mean2 = 0.764\n",
    "\n",
    "# Standard deviations\n",
    "std1 = 0.02\n",
    "std2 = 0.009\n",
    "\n",
    "t_stat, p_value = ttest_ind_from_stats(mean1=mean1, std1=std1, nobs1=n1, \n",
    "                                       mean2=mean2, std2=std2, nobs2=n2)\n",
    "\n",
    "# Print results\n",
    "print(\"Original CAMELOT VS CAMELOT-Denoising\")\n",
    "print(\"t-statistic: \", t_stat)\n",
    "print(\"p-value: \", p_value)\n"
   ]
  },
  {
   "cell_type": "code",
   "execution_count": 55,
   "metadata": {},
   "outputs": [
    {
     "name": "stdout",
     "output_type": "stream",
     "text": [
      "F1-score T-test\n"
     ]
    }
   ],
   "source": [
    "print(\"F1-score T-test\")"
   ]
  },
  {
   "cell_type": "code",
   "execution_count": 56,
   "metadata": {},
   "outputs": [
    {
     "name": "stdout",
     "output_type": "stream",
     "text": [
      "Original CAMELOT VS CAMELOT\n",
      "t-statistic:  2.3989692594380823\n",
      "p-value:  0.027484949289579258\n"
     ]
    }
   ],
   "source": [
    "# Sample sizes\n",
    "n1 = 10\n",
    "n2 = 10\n",
    "\n",
    "# Means\n",
    "mean1 = 0.34\n",
    "mean2 = 0.318\n",
    "\n",
    "# Standard deviations\n",
    "std1 = 0.02\n",
    "std2 = 0.021\n",
    "\n",
    "# Degrees of freedom\n",
    "df = n1 + n2 - 2\n",
    "\n",
    "\n",
    "t_stat, p_value = ttest_ind_from_stats(mean1=mean1, std1=std1, nobs1=n1, \n",
    "                                       mean2=mean2, std2=std2, nobs2=n2)\n",
    "\n",
    "# Print results\n",
    "print(\"Original CAMELOT VS CAMELOT\")\n",
    "print(\"t-statistic: \", t_stat)\n",
    "print(\"p-value: \", p_value)\n"
   ]
  },
  {
   "cell_type": "code",
   "execution_count": 57,
   "metadata": {},
   "outputs": [
    {
     "name": "stdout",
     "output_type": "stream",
     "text": [
      "Original CAMELOT VS CAMELOT-GMM\n",
      "t-statistic:  2.1693045781865634\n",
      "p-value:  0.043694912191129066\n"
     ]
    }
   ],
   "source": [
    "# Sample sizes\n",
    "n1 = 10\n",
    "n2 = 10\n",
    "\n",
    "# Means\n",
    "mean1 = 0.34\n",
    "mean2 = 0.324\n",
    "\n",
    "# Standard deviations\n",
    "std1 = 0.02\n",
    "std2 = 0.012\n",
    "\n",
    "t_stat, p_value = ttest_ind_from_stats(mean1=mean1, std1=std1, nobs1=n1, \n",
    "                                       mean2=mean2, std2=std2, nobs2=n2)\n",
    "\n",
    "# Print results\n",
    "print(\"Original CAMELOT VS CAMELOT-GMM\")\n",
    "print(\"t-statistic: \", t_stat)\n",
    "print(\"p-value: \", p_value)\n"
   ]
  },
  {
   "cell_type": "code",
   "execution_count": 58,
   "metadata": {},
   "outputs": [
    {
     "name": "stdout",
     "output_type": "stream",
     "text": [
      "Original CAMELOT VS CAMELOT-GRU\n",
      "t-statistic:  2.4041630560342635\n",
      "p-value:  0.027193448408834874\n"
     ]
    }
   ],
   "source": [
    "# Sample sizes\n",
    "n1 = 10\n",
    "n2 = 10\n",
    "\n",
    "# Means\n",
    "mean1 = 0.34\n",
    "mean2 = 0.323\n",
    "\n",
    "# Standard deviations\n",
    "std1 = 0.02\n",
    "std2 = 0.010\n",
    "\n",
    "t_stat, p_value = ttest_ind_from_stats(mean1=mean1, std1=std1, nobs1=n1, \n",
    "                                       mean2=mean2, std2=std2, nobs2=n2)\n",
    "\n",
    "# Print results\n",
    "print(\"Original CAMELOT VS CAMELOT-GRU\")\n",
    "print(\"t-statistic: \", t_stat)\n",
    "print(\"p-value: \", p_value)\n"
   ]
  },
  {
   "cell_type": "code",
   "execution_count": 59,
   "metadata": {},
   "outputs": [
    {
     "name": "stdout",
     "output_type": "stream",
     "text": [
      "Original CAMELOT VS CAMELOT-Denoising\n",
      "t-statistic:  2.6513915171382956\n",
      "p-value:  0.01624104771390471\n"
     ]
    }
   ],
   "source": [
    "# Sample sizes\n",
    "n1 = 10\n",
    "n2 = 10\n",
    "\n",
    "# Means\n",
    "mean1 = 0.34\n",
    "mean2 = 0.32\n",
    "\n",
    "# Standard deviations\n",
    "std1 = 0.02\n",
    "std2 = 0.013\n",
    "\n",
    "t_stat, p_value = ttest_ind_from_stats(mean1=mean1, std1=std1, nobs1=n1, \n",
    "                                       mean2=mean2, std2=std2, nobs2=n2)\n",
    "\n",
    "# Print results\n",
    "print(\"Original CAMELOT VS CAMELOT-Denoising\")\n",
    "print(\"t-statistic: \", t_stat)\n",
    "print(\"p-value: \", p_value)\n"
   ]
  },
  {
   "cell_type": "code",
   "execution_count": 60,
   "metadata": {},
   "outputs": [
    {
     "name": "stdout",
     "output_type": "stream",
     "text": [
      "Recall\n"
     ]
    }
   ],
   "source": [
    "print(\"Recall\")"
   ]
  },
  {
   "cell_type": "code",
   "execution_count": 61,
   "metadata": {},
   "outputs": [
    {
     "name": "stdout",
     "output_type": "stream",
     "text": [
      "Original CAMELOT VS CAMELOT\n",
      "t-statistic:  1.0601194324269205\n",
      "p-value:  0.303108947759498\n"
     ]
    }
   ],
   "source": [
    "# Sample sizes\n",
    "n1 = 10\n",
    "n2 = 10\n",
    "\n",
    "# Means\n",
    "mean1 = 0.36\n",
    "mean2 = 0.353\n",
    "\n",
    "# Standard deviations\n",
    "std1 = 0.02\n",
    "std2 = 0.006\n",
    "\n",
    "\n",
    "t_stat, p_value = ttest_ind_from_stats(mean1=mean1, std1=std1, nobs1=n1, \n",
    "                                       mean2=mean2, std2=std2, nobs2=n2)\n",
    "\n",
    "# Print results\n",
    "print(\"Original CAMELOT VS CAMELOT\")\n",
    "print(\"t-statistic: \", t_stat)\n",
    "print(\"p-value: \", p_value)\n"
   ]
  },
  {
   "cell_type": "code",
   "execution_count": 62,
   "metadata": {},
   "outputs": [
    {
     "name": "stdout",
     "output_type": "stream",
     "text": [
      "Original CAMELOT VS CAMELOT-GMM\n",
      "t-statistic:  1.0601194324269205\n",
      "p-value:  0.303108947759498\n"
     ]
    }
   ],
   "source": [
    "# Sample sizes\n",
    "n1 = 10\n",
    "n2 = 10\n",
    "\n",
    "# Means\n",
    "mean1 = 0.36\n",
    "mean2 = 0.353\n",
    "\n",
    "# Standard deviations\n",
    "std1 = 0.02\n",
    "std2 = 0.006\n",
    "\n",
    "t_stat, p_value = ttest_ind_from_stats(mean1=mean1, std1=std1, nobs1=n1, \n",
    "                                       mean2=mean2, std2=std2, nobs2=n2)\n",
    "\n",
    "# Print results\n",
    "print(\"Original CAMELOT VS CAMELOT-GMM\")\n",
    "print(\"t-statistic: \", t_stat)\n",
    "print(\"p-value: \", p_value)\n"
   ]
  },
  {
   "cell_type": "code",
   "execution_count": 63,
   "metadata": {},
   "outputs": [
    {
     "name": "stdout",
     "output_type": "stream",
     "text": [
      "Original CAMELOT VS CAMELOT-GRU\n",
      "t-statistic:  -0.42543562981151745\n",
      "p-value:  0.6755621522416628\n"
     ]
    }
   ],
   "source": [
    "# Sample sizes\n",
    "n1 = 10\n",
    "n2 = 10\n",
    "\n",
    "# Means\n",
    "mean1 = 0.36\n",
    "mean2 = 0.364\n",
    "\n",
    "# Standard deviations\n",
    "std1 = 0.02\n",
    "std2 = 0.022\n",
    "\n",
    "t_stat, p_value = ttest_ind_from_stats(mean1=mean1, std1=std1, nobs1=n1, \n",
    "                                       mean2=mean2, std2=std2, nobs2=n2)\n",
    "\n",
    "# Print results\n",
    "print(\"Original CAMELOT VS CAMELOT-GRU\")\n",
    "print(\"t-statistic: \", t_stat)\n",
    "print(\"p-value: \", p_value)\n"
   ]
  },
  {
   "cell_type": "code",
   "execution_count": 64,
   "metadata": {},
   "outputs": [
    {
     "name": "stdout",
     "output_type": "stream",
     "text": [
      "Original CAMELOT VS CAMELOT-Denoising\n",
      "t-statistic:  -0.15357377920848794\n",
      "p-value:  0.8796544387711236\n"
     ]
    }
   ],
   "source": [
    "# Sample sizes\n",
    "n1 = 10\n",
    "n2 = 10\n",
    "\n",
    "# Means\n",
    "mean1 = 0.36\n",
    "mean2 = 0.362\n",
    "\n",
    "# Standard deviations\n",
    "std1 = 0.02\n",
    "std2 = 0.036\n",
    "\n",
    "t_stat, p_value = ttest_ind_from_stats(mean1=mean1, std1=std1, nobs1=n1, \n",
    "                                       mean2=mean2, std2=std2, nobs2=n2)\n",
    "\n",
    "# Print results\n",
    "print(\"Original CAMELOT VS CAMELOT-Denoising\")\n",
    "print(\"t-statistic: \", t_stat)\n",
    "print(\"p-value: \", p_value)\n"
   ]
  },
  {
   "cell_type": "code",
   "execution_count": 65,
   "metadata": {},
   "outputs": [
    {
     "name": "stdout",
     "output_type": "stream",
     "text": [
      "NMI\n"
     ]
    }
   ],
   "source": [
    "print(\"NMI\")"
   ]
  },
  {
   "cell_type": "code",
   "execution_count": 66,
   "metadata": {},
   "outputs": [
    {
     "name": "stdout",
     "output_type": "stream",
     "text": [
      "Original CAMELOT VS CAMELOT\n",
      "t-statistic:  0.10000000000000009\n",
      "p-value:  0.9214496882429103\n"
     ]
    }
   ],
   "source": [
    "# Sample sizes\n",
    "n1 = 10\n",
    "n2 = 10\n",
    "\n",
    "# Means\n",
    "mean1 = 0.11\n",
    "mean2 = 0.109\n",
    "\n",
    "# Standard deviations\n",
    "std1 = 0.03\n",
    "std2 = 0.01\n",
    "\n",
    "\n",
    "t_stat, p_value = ttest_ind_from_stats(mean1=mean1, std1=std1, nobs1=n1, \n",
    "                                       mean2=mean2, std2=std2, nobs2=n2)\n",
    "\n",
    "# Print results\n",
    "print(\"Original CAMELOT VS CAMELOT\")\n",
    "print(\"t-statistic: \", t_stat)\n",
    "print(\"p-value: \", p_value)\n"
   ]
  },
  {
   "cell_type": "code",
   "execution_count": 67,
   "metadata": {},
   "outputs": [
    {
     "name": "stdout",
     "output_type": "stream",
     "text": [
      "Original CAMELOT VS CAMELOT-GMM\n",
      "t-statistic:  0.31008683647302143\n",
      "p-value:  0.7600563967678149\n"
     ]
    }
   ],
   "source": [
    "# Sample sizes\n",
    "n1 = 10\n",
    "n2 = 10\n",
    "\n",
    "# Means\n",
    "mean1 = 0.11\n",
    "mean2 = 0.107\n",
    "\n",
    "# Standard deviations\n",
    "std1 = 0.03\n",
    "std2 = 0.006\n",
    "\n",
    "\n",
    "t_stat, p_value = ttest_ind_from_stats(mean1=mean1, std1=std1, nobs1=n1, \n",
    "                                       mean2=mean2, std2=std2, nobs2=n2)\n",
    "\n",
    "# Print results\n",
    "print(\"Original CAMELOT VS CAMELOT-GMM\")\n",
    "print(\"t-statistic: \", t_stat)\n",
    "print(\"p-value: \", p_value)\n"
   ]
  },
  {
   "cell_type": "code",
   "execution_count": 68,
   "metadata": {},
   "outputs": [
    {
     "name": "stdout",
     "output_type": "stream",
     "text": [
      "Original CAMELOT VS CAMELOT-GRU\n",
      "t-statistic:  0.8999999999999994\n",
      "p-value:  0.3800037019543159\n"
     ]
    }
   ],
   "source": [
    "# Sample sizes\n",
    "n1 = 10\n",
    "n2 = 10\n",
    "\n",
    "# Means\n",
    "mean1 = 0.11\n",
    "mean2 = 0.101\n",
    "\n",
    "# Standard deviations\n",
    "std1 = 0.03\n",
    "std2 = 0.010\n",
    "\n",
    "\n",
    "t_stat, p_value = ttest_ind_from_stats(mean1=mean1, std1=std1, nobs1=n1, \n",
    "                                       mean2=mean2, std2=std2, nobs2=n2)\n",
    "\n",
    "# Print results\n",
    "print(\"Original CAMELOT VS CAMELOT-GRU\")\n",
    "print(\"t-statistic: \", t_stat)\n",
    "print(\"p-value: \", p_value)\n"
   ]
  },
  {
   "cell_type": "code",
   "execution_count": 69,
   "metadata": {},
   "outputs": [
    {
     "name": "stdout",
     "output_type": "stream",
     "text": [
      "Original CAMELOT VS CAMELOT-Denoising\n",
      "t-statistic:  0.6927637731908636\n",
      "p-value:  0.49729929209110457\n"
     ]
    }
   ],
   "source": [
    "# Sample sizes\n",
    "n1 = 10\n",
    "n2 = 10\n",
    "\n",
    "# Means\n",
    "mean1 = 0.11\n",
    "mean2 = 0.103\n",
    "\n",
    "# Standard deviations\n",
    "std1 = 0.03\n",
    "std2 = 0.011\n",
    "\n",
    "\n",
    "t_stat, p_value = ttest_ind_from_stats(mean1=mean1, std1=std1, nobs1=n1, \n",
    "                                       mean2=mean2, std2=std2, nobs2=n2)\n",
    "\n",
    "# Print results\n",
    "print(\"Original CAMELOT VS CAMELOT-Denoising\")\n",
    "print(\"t-statistic: \", t_stat)\n",
    "print(\"p-value: \", p_value)\n"
   ]
  }
 ],
 "metadata": {
  "kernelspec": {
   "display_name": "Python 3",
   "language": "python",
   "name": "python3"
  },
  "language_info": {
   "codemirror_mode": {
    "name": "ipython",
    "version": 3
   },
   "file_extension": ".py",
   "mimetype": "text/x-python",
   "name": "python",
   "nbconvert_exporter": "python",
   "pygments_lexer": "ipython3",
   "version": "3.10.11"
  },
  "orig_nbformat": 4
 },
 "nbformat": 4,
 "nbformat_minor": 2
}
