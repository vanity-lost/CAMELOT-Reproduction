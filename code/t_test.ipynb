{
 "cells": [
  {
   "cell_type": "code",
   "execution_count": 10,
   "metadata": {},
   "outputs": [
    {
     "name": "stdout",
     "output_type": "stream",
     "text": [
      "AUC T-test\n"
     ]
    }
   ],
   "source": [
    "from scipy.stats import t\n",
    "print(\"AUC T-test\")"
   ]
  },
  {
   "cell_type": "code",
   "execution_count": 11,
   "metadata": {},
   "outputs": [
    {
     "name": "stdout",
     "output_type": "stream",
     "text": [
      "Original CAMELOT VS CAMELOT\n",
      "t-statistic:  -13.18122279052277\n",
      "p-value:  1.840859768100899e-39\n"
     ]
    }
   ],
   "source": [
    "# Sample sizes\n",
    "n1 = 7701\n",
    "n2 = 7701\n",
    "\n",
    "# Means\n",
    "mean1 = 0.72\n",
    "mean2 = 0.771\n",
    "\n",
    "# Standard deviations\n",
    "std1 = 0.02\n",
    "std2 = 0.023\n",
    "\n",
    "# Degrees of freedom\n",
    "df = n1 + n2 - 2\n",
    "\n",
    "# Calculate pooled standard deviation\n",
    "s_p = ((n1 - 1) * std1 ** 2 + (n2 - 1) * std2 ** 2) / df ** 0.5\n",
    "\n",
    "# Calculate t-statistic\n",
    "t_stat = (mean1 - mean2) / (s_p * (1 / n1 + 1 / n2)) ** 0.5\n",
    "\n",
    "# Calculate p-value\n",
    "p_value = 2 * t.sf(abs(t_stat), df)\n",
    "\n",
    "# Print results\n",
    "print(\"Original CAMELOT VS CAMELOT\")\n",
    "print(\"t-statistic: \", t_stat)\n",
    "print(\"p-value: \", p_value)\n"
   ]
  },
  {
   "cell_type": "code",
   "execution_count": 12,
   "metadata": {},
   "outputs": [
    {
     "name": "stdout",
     "output_type": "stream",
     "text": [
      "Original CAMELOT VS CAMELOT-GMM\n",
      "t-statistic:  -13.706996140068219\n",
      "p-value:  1.637588547877732e-42\n"
     ]
    }
   ],
   "source": [
    "# Sample sizes\n",
    "n1 = 7701\n",
    "n2 = 7701\n",
    "\n",
    "# Means\n",
    "mean1 = 0.72\n",
    "mean2 = 0.768\n",
    "\n",
    "# Standard deviations\n",
    "std1 = 0.02\n",
    "std2 = 0.019\n",
    "\n",
    "# Degrees of freedom\n",
    "df = n1 + n2 - 2\n",
    "\n",
    "# Calculate pooled standard deviation\n",
    "s_p = ((n1 - 1) * std1 ** 2 + (n2 - 1) * std2 ** 2) / df ** 0.5\n",
    "\n",
    "# Calculate t-statistic\n",
    "t_stat = (mean1 - mean2) / (s_p * (1 / n1 + 1 / n2)) ** 0.5\n",
    "\n",
    "# Calculate p-value\n",
    "p_value = 2 * t.sf(abs(t_stat), df)\n",
    "\n",
    "# Print results\n",
    "print(\"Original CAMELOT VS CAMELOT-GMM\")\n",
    "print(\"t-statistic: \", t_stat)\n",
    "print(\"p-value: \", p_value)\n"
   ]
  },
  {
   "cell_type": "code",
   "execution_count": 13,
   "metadata": {},
   "outputs": [
    {
     "name": "stdout",
     "output_type": "stream",
     "text": [
      "Original CAMELOT VS CAMELOT-GRU\n",
      "t-statistic:  -12.5647464617292\n",
      "p-value:  4.9563079353220636e-36\n"
     ]
    }
   ],
   "source": [
    "# Sample sizes\n",
    "n1 = 7701\n",
    "n2 = 7701\n",
    "\n",
    "# Means\n",
    "mean1 = 0.72\n",
    "mean2 = 0.764\n",
    "\n",
    "# Standard deviations\n",
    "std1 = 0.02\n",
    "std2 = 0.019\n",
    "\n",
    "# Degrees of freedom\n",
    "df = n1 + n2 - 2\n",
    "\n",
    "# Calculate pooled standard deviation\n",
    "s_p = ((n1 - 1) * std1 ** 2 + (n2 - 1) * std2 ** 2) / df ** 0.5\n",
    "\n",
    "# Calculate t-statistic\n",
    "t_stat = (mean1 - mean2) / (s_p * (1 / n1 + 1 / n2)) ** 0.5\n",
    "\n",
    "# Calculate p-value\n",
    "p_value = 2 * t.sf(abs(t_stat), df)\n",
    "\n",
    "# Print results\n",
    "print(\"Original CAMELOT VS CAMELOT-GRU\")\n",
    "print(\"t-statistic: \", t_stat)\n",
    "print(\"p-value: \", p_value)\n"
   ]
  },
  {
   "cell_type": "code",
   "execution_count": 14,
   "metadata": {},
   "outputs": [
    {
     "name": "stdout",
     "output_type": "stream",
     "text": [
      "Original CAMELOT VS CAMELOT-Denoising\n",
      "t-statistic:  -15.804236492595201\n",
      "p-value:  7.98664884190411e-56\n"
     ]
    }
   ],
   "source": [
    "# Sample sizes\n",
    "n1 = 7701\n",
    "n2 = 7701\n",
    "\n",
    "# Means\n",
    "mean1 = 0.72\n",
    "mean2 = 0.764\n",
    "\n",
    "# Standard deviations\n",
    "std1 = 0.02\n",
    "std2 = 0.009\n",
    "\n",
    "# Degrees of freedom\n",
    "df = n1 + n2 - 2\n",
    "\n",
    "# Calculate pooled standard deviation\n",
    "s_p = ((n1 - 1) * std1 ** 2 + (n2 - 1) * std2 ** 2) / df ** 0.5\n",
    "\n",
    "# Calculate t-statistic\n",
    "t_stat = (mean1 - mean2) / (s_p * (1 / n1 + 1 / n2)) ** 0.5\n",
    "\n",
    "# Calculate p-value\n",
    "p_value = 2 * t.sf(abs(t_stat), df)\n",
    "\n",
    "# Print results\n",
    "print(\"Original CAMELOT VS CAMELOT-Denoising\")\n",
    "print(\"t-statistic: \", t_stat)\n",
    "print(\"p-value: \", p_value)\n"
   ]
  },
  {
   "cell_type": "code",
   "execution_count": 15,
   "metadata": {},
   "outputs": [
    {
     "name": "stdout",
     "output_type": "stream",
     "text": [
      "F1-score T-test\n"
     ]
    }
   ],
   "source": [
    "print(\"F1-score T-test\")"
   ]
  },
  {
   "cell_type": "code",
   "execution_count": 16,
   "metadata": {},
   "outputs": [
    {
     "name": "stdout",
     "output_type": "stream",
     "text": [
      "Original CAMELOT VS CAMELOT\n",
      "t-statistic:  5.976102867031409\n",
      "p-value:  2.3357995455548914e-09\n"
     ]
    }
   ],
   "source": [
    "# Sample sizes\n",
    "n1 = 7701\n",
    "n2 = 7701\n",
    "\n",
    "# Means\n",
    "mean1 = 0.34\n",
    "mean2 = 0.318\n",
    "\n",
    "# Standard deviations\n",
    "std1 = 0.02\n",
    "std2 = 0.021\n",
    "\n",
    "# Degrees of freedom\n",
    "df = n1 + n2 - 2\n",
    "\n",
    "# Calculate pooled standard deviation\n",
    "s_p = ((n1 - 1) * std1 ** 2 + (n2 - 1) * std2 ** 2) / df ** 0.5\n",
    "\n",
    "# Calculate t-statistic\n",
    "t_stat = (mean1 - mean2) / (s_p * (1 / n1 + 1 / n2)) ** 0.5\n",
    "\n",
    "# Calculate p-value\n",
    "p_value = 2 * t.sf(abs(t_stat), df)\n",
    "\n",
    "# Print results\n",
    "print(\"Original CAMELOT VS CAMELOT\")\n",
    "print(\"t-statistic: \", t_stat)\n",
    "print(\"p-value: \", p_value)\n"
   ]
  },
  {
   "cell_type": "code",
   "execution_count": 17,
   "metadata": {},
   "outputs": [
    {
     "name": "stdout",
     "output_type": "stream",
     "text": [
      "Recall\n"
     ]
    }
   ],
   "source": [
    "print(\"Recall\")"
   ]
  },
  {
   "cell_type": "code",
   "execution_count": 18,
   "metadata": {},
   "outputs": [
    {
     "name": "stdout",
     "output_type": "stream",
     "text": [
      "Original CAMELOT VS CAMELOT\n",
      "t-statistic:  2.6408770160757227\n",
      "p-value:  0.008277518611338765\n"
     ]
    }
   ],
   "source": [
    "# Sample sizes\n",
    "n1 = 7701\n",
    "n2 = 7701\n",
    "\n",
    "# Means\n",
    "mean1 = 0.36\n",
    "mean2 = 0.353\n",
    "\n",
    "# Standard deviations\n",
    "std1 = 0.02\n",
    "std2 = 0.006\n",
    "\n",
    "# Degrees of freedom\n",
    "df = n1 + n2 - 2\n",
    "\n",
    "# Calculate pooled standard deviation\n",
    "s_p = ((n1 - 1) * std1 ** 2 + (n2 - 1) * std2 ** 2) / df ** 0.5\n",
    "\n",
    "# Calculate t-statistic\n",
    "t_stat = (mean1 - mean2) / (s_p * (1 / n1 + 1 / n2)) ** 0.5\n",
    "\n",
    "# Calculate p-value\n",
    "p_value = 2 * t.sf(abs(t_stat), df)\n",
    "\n",
    "# Print results\n",
    "print(\"Original CAMELOT VS CAMELOT\")\n",
    "print(\"t-statistic: \", t_stat)\n",
    "print(\"p-value: \", p_value)\n"
   ]
  },
  {
   "cell_type": "code",
   "execution_count": 19,
   "metadata": {},
   "outputs": [
    {
     "name": "stdout",
     "output_type": "stream",
     "text": [
      "NMI\n"
     ]
    }
   ],
   "source": [
    "print(\"NMI\")"
   ]
  },
  {
   "cell_type": "code",
   "execution_count": 20,
   "metadata": {},
   "outputs": [
    {
     "name": "stdout",
     "output_type": "stream",
     "text": [
      "Original CAMELOT VS CAMELOT\n",
      "t-statistic:  0.24911127324871243\n",
      "p-value:  0.8032780316642723\n"
     ]
    }
   ],
   "source": [
    "# Sample sizes\n",
    "n1 = 7701\n",
    "n2 = 7701\n",
    "\n",
    "# Means\n",
    "mean1 = 0.11\n",
    "mean2 = 0.109\n",
    "\n",
    "# Standard deviations\n",
    "std1 = 0.03\n",
    "std2 = 0.01\n",
    "\n",
    "# Degrees of freedom\n",
    "df = n1 + n2 - 2\n",
    "\n",
    "# Calculate pooled standard deviation\n",
    "s_p = ((n1 - 1) * std1 ** 2 + (n2 - 1) * std2 ** 2) / df ** 0.5\n",
    "\n",
    "# Calculate t-statistic\n",
    "t_stat = (mean1 - mean2) / (s_p * (1 / n1 + 1 / n2)) ** 0.5\n",
    "\n",
    "# Calculate p-value\n",
    "p_value = 2 * t.sf(abs(t_stat), df)\n",
    "\n",
    "# Print results\n",
    "print(\"Original CAMELOT VS CAMELOT\")\n",
    "print(\"t-statistic: \", t_stat)\n",
    "print(\"p-value: \", p_value)\n"
   ]
  }
 ],
 "metadata": {
  "kernelspec": {
   "display_name": "Python 3",
   "language": "python",
   "name": "python3"
  },
  "language_info": {
   "codemirror_mode": {
    "name": "ipython",
    "version": 3
   },
   "file_extension": ".py",
   "mimetype": "text/x-python",
   "name": "python",
   "nbconvert_exporter": "python",
   "pygments_lexer": "ipython3",
   "version": "3.10.11"
  },
  "orig_nbformat": 4
 },
 "nbformat": 4,
 "nbformat_minor": 2
}
