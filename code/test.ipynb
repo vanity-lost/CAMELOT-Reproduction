{
 "cells": [
  {
   "cell_type": "code",
   "execution_count": 1,
   "metadata": {},
   "outputs": [],
   "source": [
    "from datasets_dataloader_pytorch import CustomDataset, load_data\n",
    "from sklearn.model_selection import train_test_split\n",
    "import numpy as np\n",
    "import torch\n",
    "\n",
    "from CAMELOT import CamelotModel"
   ]
  },
  {
   "cell_type": "code",
   "execution_count": 2,
   "metadata": {},
   "outputs": [
    {
     "name": "stdout",
     "output_type": "stream",
     "text": [
      "\n",
      "MIMIC data has been subsettted to the following features: \n",
      " ['DBP', 'HR', 'RR', 'SBP', 'SPO2', 'TEMP'].\n"
     ]
    },
    {
     "name": "stderr",
     "output_type": "stream",
     "text": [
      "100%|██████████| 7701/7701 [00:21<00:00, 366.32it/s]\n"
     ]
    }
   ],
   "source": [
    "dataset = CustomDataset()\n",
    "\n",
    "# Stratified Sampling for train and val\n",
    "train_idx, test_idx = train_test_split(np.arange(len(dataset)),\n",
    "                                             test_size=0.4,\n",
    "                                             random_state=2323,\n",
    "                                             shuffle=True,\n",
    "                                             stratify=np.argmax(dataset.y,axis=-1))\n",
    "\n",
    "# Subset dataset for train and val\n",
    "train_dataset = dataset.get_subset(train_idx)\n",
    "test_dataset = dataset.get_subset(test_idx)\n",
    "\n",
    "train_loader, val_loader, test_loader = load_data(train_dataset, test_dataset, test_dataset)\n",
    "\n",
    "# train_idx, val_idx = train_test_split(np.arange(len(train_idx)),\n",
    "#                                              test_size=0.5,\n",
    "#                                              random_state=2323,\n",
    "#                                              shuffle=True,\n",
    "#                                              stratify=np.argmax(train_dataset.y,axis=-1))\n",
    "\n",
    "# train_dataset = dataset.get_subset(train_idx)\n",
    "# val_dataset = dataset.get_subset(val_idx)\n",
    "\n",
    "# train_loader, val_loader, test_loader = load_data(train_dataset, val_dataset, test_dataset)"
   ]
  },
  {
   "cell_type": "code",
   "execution_count": 9,
   "metadata": {},
   "outputs": [],
   "source": [
    "from sklearn.cluster import KMeans\n",
    "import numpy as np\n",
    "from tqdm import trange\n",
    "\n",
    "import torch\n",
    "import torch.nn as nn\n",
    "import torch.nn.functional as F\n",
    "from torch.utils.data import DataLoader, TensorDataset\n",
    "\n",
    "from model_utils import Encoder, Identifier, Predictor\n",
    "from utils import calc_pred_loss\n",
    "\n",
    "\n",
    "class CamelotModel(nn.Module):\n",
    "    def __init__(self, input_shape, num_clusters=10, latent_dim=32, seed=4347, output_dim=4,\n",
    "                 alpha=0.01, beta=0.01, regularization=(0.01, 0.01), dropout=0.6,\n",
    "                 cluster_rep_lr=0.001, weighted_loss=True, attention_hidden_dim=20,\n",
    "                 mlp_hidden_dim=30):\n",
    "\n",
    "        super().__init__()\n",
    "        torch.random.manual_seed(seed)\n",
    "        self.seed = seed\n",
    "\n",
    "        self.input_shape = input_shape\n",
    "        self.num_clusters = num_clusters\n",
    "        self.latent_dim = latent_dim\n",
    "        self.output_dim = output_dim\n",
    "        self.alpha = alpha\n",
    "        self.beta = beta\n",
    "        self.regularization = regularization\n",
    "        self.dropout = dropout\n",
    "        self.cluster_rep_lr = cluster_rep_lr\n",
    "        self.weighted_loss = weighted_loss\n",
    "        self.attention_hidden_dim = attention_hidden_dim\n",
    "        self.mlp_hidden_dim = mlp_hidden_dim\n",
    "\n",
    "        # three newtorks\n",
    "        self.Encoder = Encoder(self.input_shape, self.attention_hidden_dim, self.latent_dim, self.dropout)\n",
    "        self.Identifier = Identifier(self.latent_dim, self.mlp_hidden_dim, self.dropout, self.num_clusters)\n",
    "        self.Predictor = Predictor(self.num_clusters, self.mlp_hidden_dim, self.dropout, self.output_dim)\n",
    "\n",
    "        # Cluster Representation params\n",
    "        self.cluster_rep_set = torch.zeros(\n",
    "            size=[self.num_clusters, self.latent_dim], dtype=torch.float32, requires_grad=True)\n",
    "\n",
    "        self.loss_weights = None\n",
    "\n",
    "    def forward(self, x):\n",
    "        z = self.Encoder(x)\n",
    "        probs = self.Identifier(z)\n",
    "        samples = self.get_sample(probs)\n",
    "        representations = self.get_representations(samples)\n",
    "        return self.Predictor(representations)\n",
    "\n",
    "    def forward_pass(self, x):\n",
    "        z = self.Encoder(x)\n",
    "        probs = self.Identifier(z)\n",
    "        samples = self.get_sample(probs)\n",
    "        representations = self.get_representations(samples)\n",
    "        return self.Predictor(representations), probs\n",
    "\n",
    "    def get_sample(self, probs):\n",
    "        logits = torch.log(probs.reshape(-1, self.num_clusters))\n",
    "        samples = torch.multinomial(logits, num_samples=1)\n",
    "        return samples.squeeze()\n",
    "\n",
    "    def get_representations(self, samples):\n",
    "        mask = F.one_hot(samples, num_classes=self.num_clusters)\n",
    "        return mask @ self.cluster_rep_set\n",
    "\n",
    "    def class_weight(self, y):\n",
    "        inv_class_num = 1 / torch.sum(y, dim=0)\n",
    "        return inv_class_num / torch.sum(inv_class_num)\n",
    "\n",
    "    def calc_pis(self, X):\n",
    "        return self.Identifier(self.Encoder(X)).numpy()\n",
    "\n",
    "    def get_cluster_reps(self):\n",
    "        return self.cluster_rep_set.numpy()\n",
    "\n",
    "    def assignment(self, X):\n",
    "        pi = self.Identifier(self.Encoder(X)).numpy()\n",
    "        return torch.argmax(pi, dim=1)\n",
    "\n",
    "    def compute_cluster_phenotypes(self):\n",
    "        return self.Predictor(self.cluster_rep_set).numpy()\n",
    "\n",
    "    # def compute_unnorm_attention_weights(self, inputs):\n",
    "    #     # no idea\n",
    "    #     return self.Encoder.compute_unnorm_scores(inputs, cluster_reps=self.cluster_rep_set)\n",
    "\n",
    "    # def compute_norm_attention_weights(self, inputs):\n",
    "    #     # no idea\n",
    "    #     return self.Encoder.compute_norm_scores(inputs, cluster_reps=self.cluster_rep_set)\n",
    "\n",
    "    def initialize(self, train_data, val_data):\n",
    "        x_train, y_train = train_data\n",
    "        x_val, y_val = val_data\n",
    "        self.loss_weights = self.class_weight(y_train)\n",
    "\n",
    "        # initialize encoder\n",
    "        self.initialize_encoder(x_train, y_train, x_val, y_val)\n",
    "\n",
    "        # initialize cluster\n",
    "        clus_train, clus_val = self.initialize_cluster(x_train, x_val)\n",
    "        self.clus_train = clus_train\n",
    "        self.x_train = x_train\n",
    "\n",
    "        # initialize identifier\n",
    "        self.initialize_identifier(x_train, clus_train, x_val, clus_val)\n",
    "\n",
    "    def initialize_encoder(self, x_train, y_train, x_val, y_val, epochs=100, batch_size=64):\n",
    "        temp = DataLoader(\n",
    "            dataset=TensorDataset(x_train, y_train),\n",
    "            shuffle=True,\n",
    "            batch_size=batch_size\n",
    "        )\n",
    "\n",
    "        iden_loss = torch.full((epochs,), float('nan'))\n",
    "        initialize_optim = torch.optim.Adam(\n",
    "            self.Encoder.parameters(), lr=0.001)\n",
    "\n",
    "        for i in trange(epochs):\n",
    "            epoch_loss = 0\n",
    "            for _, (x_batch, y_batch) in enumerate(temp):\n",
    "                initialize_optim.zero_grad()\n",
    "                \n",
    "                z = self.Encoder(x_batch)\n",
    "                y_pred = self.Predictor(self.Identifier(z))\n",
    "                loss = calc_pred_loss(y_batch, y_pred, self.loss_weights)\n",
    "\n",
    "                loss.backward()\n",
    "                initialize_optim.step()\n",
    "\n",
    "                epoch_loss += loss.item()\n",
    "\n",
    "            with torch.no_grad():\n",
    "                z = self.Encoder(x_val)\n",
    "                y_pred_val = self.Predictor(self.Identifier(z))\n",
    "                loss_val = calc_pred_loss(y_val, y_pred_val, self.loss_weights)\n",
    "\n",
    "            iden_loss[i] = loss_val.item()\n",
    "            if torch.le(iden_loss[-50:], loss_val.item() + 0.001).any():\n",
    "                break\n",
    "\n",
    "        print('Encoder initialization done!')\n",
    "\n",
    "    def initialize_cluster(self, x_train, x_val):\n",
    "        z = self.Encoder(x_train).detach().numpy()\n",
    "        kmeans = KMeans(self.num_clusters, random_state=self.seed)\n",
    "        kmeans.fit(z)\n",
    "        print('Kmeans initialization done!')\n",
    "\n",
    "        self.cluster_rep_set = torch.tensor(\n",
    "            kmeans.cluster_centers_, dtype=torch.float32)\n",
    "        train_cluster = torch.eye(self.num_clusters)[\n",
    "            kmeans.predict(z)]\n",
    "        val_cluster = torch.eye(self.num_clusters)[kmeans.predict(\n",
    "            self.Encoder(x_val).detach().numpy())]\n",
    "        \n",
    "        print('Cluster initialization done!')\n",
    "        return train_cluster, val_cluster\n",
    "\n",
    "    def initialize_identifier(self, x_train, clus_train, x_val, clus_val, epochs=100, batch_size=64):\n",
    "        temp = DataLoader(\n",
    "            dataset=TensorDataset(x_train, clus_train),\n",
    "            shuffle=True,\n",
    "            batch_size=batch_size\n",
    "        )\n",
    "\n",
    "        iden_loss = torch.full((epochs,), float('nan'))\n",
    "        initialize_optim = torch.optim.Adam(\n",
    "            self.Identifier.parameters(), lr=0.001)\n",
    "\n",
    "        for i in trange(epochs):\n",
    "            epoch_loss = 0\n",
    "            for step_, (x_batch, clus_batch) in enumerate(temp):\n",
    "                initialize_optim.zero_grad()\n",
    "\n",
    "                clus_pred = self.Identifier(self.Encoder(x_batch))\n",
    "                loss = calc_pred_loss(clus_batch, clus_pred)\n",
    "\n",
    "                loss.backward()\n",
    "                initialize_optim.step()\n",
    "\n",
    "                epoch_loss += loss.item()\n",
    "\n",
    "            with torch.no_grad():\n",
    "                clus_pred_val = self.Identifier(self.Encoder(x_val))\n",
    "                loss_val = calc_pred_loss(clus_val, clus_pred_val)\n",
    "\n",
    "            iden_loss[i] = loss_val.item()\n",
    "            if torch.le(iden_loss[-50:], loss_val.item() + 0.001).any():\n",
    "                break\n",
    "\n",
    "        print('Identifier initialization done!')\n"
   ]
  },
  {
   "cell_type": "code",
   "execution_count": 10,
   "metadata": {},
   "outputs": [],
   "source": [
    "model = CamelotModel(input_shape=(6, 6))"
   ]
  },
  {
   "cell_type": "code",
   "execution_count": 11,
   "metadata": {},
   "outputs": [
    {
     "name": "stderr",
     "output_type": "stream",
     "text": [
      " 50%|█████     | 50/100 [01:56<01:56,  2.34s/it]\n"
     ]
    },
    {
     "name": "stdout",
     "output_type": "stream",
     "text": [
      "Encoder initialization done!\n",
      "Kmeans initialization done!\n",
      "Cluster initialization done!\n"
     ]
    },
    {
     "name": "stderr",
     "output_type": "stream",
     "text": [
      " 50%|█████     | 50/100 [01:32<01:32,  1.85s/it]"
     ]
    },
    {
     "name": "stdout",
     "output_type": "stream",
     "text": [
      "Identifier initialization done!\n"
     ]
    },
    {
     "name": "stderr",
     "output_type": "stream",
     "text": [
      "\n"
     ]
    }
   ],
   "source": [
    "model.initialize((torch.tensor(train_dataset.x), torch.tensor(train_dataset.y)), (torch.tensor(test_dataset.x), torch.tensor(test_dataset.y)))"
   ]
  },
  {
   "cell_type": "code",
   "execution_count": 12,
   "metadata": {},
   "outputs": [],
   "source": [
    "from utils import calc_pred_loss, calc_dist_loss, calc_clus_loss"
   ]
  },
  {
   "cell_type": "code",
   "execution_count": 13,
   "metadata": {},
   "outputs": [
    {
     "name": "stderr",
     "output_type": "stream",
     "text": [
      "  0%|          | 0/100 [00:00<?, ?it/s]c:\\Users\\rando\\OneDrive\\Courses\\CS 598\\Project\\code\\datasets_dataloader_pytorch.py:464: UserWarning: Creating a tensor from a list of numpy.ndarrays is extremely slow. Please consider converting the list to a single numpy.ndarray with numpy.array() before converting to a tensor. (Triggered internally at  ..\\torch\\csrc\\utils\\tensor_new.cpp:201.)\n",
      "  x = torch.tensor(x)\n",
      "  0%|          | 0/100 [00:00<?, ?it/s]\n"
     ]
    },
    {
     "ename": "RuntimeError",
     "evalue": "probability tensor contains either `inf`, `nan` or element < 0",
     "output_type": "error",
     "traceback": [
      "\u001b[1;31m---------------------------------------------------------------------------\u001b[0m",
      "\u001b[1;31mRuntimeError\u001b[0m                              Traceback (most recent call last)",
      "\u001b[1;32m~\\AppData\\Local\\Temp/ipykernel_7236/2700995017.py\u001b[0m in \u001b[0;36m<module>\u001b[1;34m\u001b[0m\n\u001b[0;32m     14\u001b[0m         \u001b[0mcluster_optim\u001b[0m\u001b[1;33m.\u001b[0m\u001b[0mzero_grad\u001b[0m\u001b[1;33m(\u001b[0m\u001b[1;33m)\u001b[0m\u001b[1;33m\u001b[0m\u001b[1;33m\u001b[0m\u001b[0m\n\u001b[0;32m     15\u001b[0m \u001b[1;33m\u001b[0m\u001b[0m\n\u001b[1;32m---> 16\u001b[1;33m         \u001b[0my_pred\u001b[0m\u001b[1;33m,\u001b[0m \u001b[0mprobs\u001b[0m \u001b[1;33m=\u001b[0m \u001b[0mmodel\u001b[0m\u001b[1;33m.\u001b[0m\u001b[0mforward_pass\u001b[0m\u001b[1;33m(\u001b[0m\u001b[0mx_train\u001b[0m\u001b[1;33m)\u001b[0m\u001b[1;33m\u001b[0m\u001b[1;33m\u001b[0m\u001b[0m\n\u001b[0m\u001b[0;32m     17\u001b[0m         \u001b[0mpred_loss\u001b[0m \u001b[1;33m=\u001b[0m \u001b[0mcalc_pred_loss\u001b[0m\u001b[1;33m(\u001b[0m\u001b[0my_train\u001b[0m\u001b[1;33m,\u001b[0m \u001b[0my_pred\u001b[0m\u001b[1;33m,\u001b[0m \u001b[0mmodel\u001b[0m\u001b[1;33m.\u001b[0m\u001b[0mloss_weights\u001b[0m\u001b[1;33m)\u001b[0m\u001b[1;33m\u001b[0m\u001b[1;33m\u001b[0m\u001b[0m\n\u001b[0;32m     18\u001b[0m         enc_id_loss = calc_pred_loss(\n",
      "\u001b[1;32m~\\AppData\\Local\\Temp/ipykernel_7236/4006210099.py\u001b[0m in \u001b[0;36mforward_pass\u001b[1;34m(self, x)\u001b[0m\n\u001b[0;32m     56\u001b[0m         \u001b[0mz\u001b[0m \u001b[1;33m=\u001b[0m \u001b[0mself\u001b[0m\u001b[1;33m.\u001b[0m\u001b[0mEncoder\u001b[0m\u001b[1;33m(\u001b[0m\u001b[0mx\u001b[0m\u001b[1;33m)\u001b[0m\u001b[1;33m\u001b[0m\u001b[1;33m\u001b[0m\u001b[0m\n\u001b[0;32m     57\u001b[0m         \u001b[0mprobs\u001b[0m \u001b[1;33m=\u001b[0m \u001b[0mself\u001b[0m\u001b[1;33m.\u001b[0m\u001b[0mIdentifier\u001b[0m\u001b[1;33m(\u001b[0m\u001b[0mz\u001b[0m\u001b[1;33m)\u001b[0m\u001b[1;33m\u001b[0m\u001b[1;33m\u001b[0m\u001b[0m\n\u001b[1;32m---> 58\u001b[1;33m         \u001b[0msamples\u001b[0m \u001b[1;33m=\u001b[0m \u001b[0mself\u001b[0m\u001b[1;33m.\u001b[0m\u001b[0mget_sample\u001b[0m\u001b[1;33m(\u001b[0m\u001b[0mprobs\u001b[0m\u001b[1;33m)\u001b[0m\u001b[1;33m\u001b[0m\u001b[1;33m\u001b[0m\u001b[0m\n\u001b[0m\u001b[0;32m     59\u001b[0m         \u001b[0mrepresentations\u001b[0m \u001b[1;33m=\u001b[0m \u001b[0mself\u001b[0m\u001b[1;33m.\u001b[0m\u001b[0mget_representations\u001b[0m\u001b[1;33m(\u001b[0m\u001b[0msamples\u001b[0m\u001b[1;33m)\u001b[0m\u001b[1;33m\u001b[0m\u001b[1;33m\u001b[0m\u001b[0m\n\u001b[0;32m     60\u001b[0m         \u001b[1;32mreturn\u001b[0m \u001b[0mself\u001b[0m\u001b[1;33m.\u001b[0m\u001b[0mPredictor\u001b[0m\u001b[1;33m(\u001b[0m\u001b[0mrepresentations\u001b[0m\u001b[1;33m)\u001b[0m\u001b[1;33m,\u001b[0m \u001b[0mprobs\u001b[0m\u001b[1;33m\u001b[0m\u001b[1;33m\u001b[0m\u001b[0m\n",
      "\u001b[1;32m~\\AppData\\Local\\Temp/ipykernel_7236/4006210099.py\u001b[0m in \u001b[0;36mget_sample\u001b[1;34m(self, probs)\u001b[0m\n\u001b[0;32m     62\u001b[0m     \u001b[1;32mdef\u001b[0m \u001b[0mget_sample\u001b[0m\u001b[1;33m(\u001b[0m\u001b[0mself\u001b[0m\u001b[1;33m,\u001b[0m \u001b[0mprobs\u001b[0m\u001b[1;33m)\u001b[0m\u001b[1;33m:\u001b[0m\u001b[1;33m\u001b[0m\u001b[1;33m\u001b[0m\u001b[0m\n\u001b[0;32m     63\u001b[0m         \u001b[0mlogits\u001b[0m \u001b[1;33m=\u001b[0m \u001b[0mtorch\u001b[0m\u001b[1;33m.\u001b[0m\u001b[0mlog\u001b[0m\u001b[1;33m(\u001b[0m\u001b[0mprobs\u001b[0m\u001b[1;33m.\u001b[0m\u001b[0mreshape\u001b[0m\u001b[1;33m(\u001b[0m\u001b[1;33m-\u001b[0m\u001b[1;36m1\u001b[0m\u001b[1;33m,\u001b[0m \u001b[0mself\u001b[0m\u001b[1;33m.\u001b[0m\u001b[0mnum_clusters\u001b[0m\u001b[1;33m)\u001b[0m\u001b[1;33m)\u001b[0m\u001b[1;33m\u001b[0m\u001b[1;33m\u001b[0m\u001b[0m\n\u001b[1;32m---> 64\u001b[1;33m         \u001b[0msamples\u001b[0m \u001b[1;33m=\u001b[0m \u001b[0mtorch\u001b[0m\u001b[1;33m.\u001b[0m\u001b[0mmultinomial\u001b[0m\u001b[1;33m(\u001b[0m\u001b[0mlogits\u001b[0m\u001b[1;33m,\u001b[0m \u001b[0mnum_samples\u001b[0m\u001b[1;33m=\u001b[0m\u001b[1;36m1\u001b[0m\u001b[1;33m)\u001b[0m\u001b[1;33m\u001b[0m\u001b[1;33m\u001b[0m\u001b[0m\n\u001b[0m\u001b[0;32m     65\u001b[0m         \u001b[1;32mreturn\u001b[0m \u001b[0msamples\u001b[0m\u001b[1;33m.\u001b[0m\u001b[0msqueeze\u001b[0m\u001b[1;33m(\u001b[0m\u001b[1;33m)\u001b[0m\u001b[1;33m\u001b[0m\u001b[1;33m\u001b[0m\u001b[0m\n\u001b[0;32m     66\u001b[0m \u001b[1;33m\u001b[0m\u001b[0m\n",
      "\u001b[1;31mRuntimeError\u001b[0m: probability tensor contains either `inf`, `nan` or element < 0"
     ]
    }
   ],
   "source": [
    "encoder_optim = torch.optim.Adam(model.Identifier.parameters(), lr=0.001)\n",
    "identifier_optim = torch.optim.Adam(model.Identifier.parameters(), lr=0.001)\n",
    "predictor_optim = torch.optim.Adam(model.Identifier.parameters(), lr=0.001)\n",
    "cluster_optim = torch.optim.Adam(model.Identifier.parameters(), lr=0.001)\n",
    "\n",
    "iden_loss = []\n",
    "\n",
    "for i in trange(100):\n",
    "    epoch_pred_loss, epoch_enc_id_loss, epoch_clus_loss = 0, 0, 0\n",
    "    for step_, (x_train, y_train) in enumerate(train_loader):\n",
    "        encoder_optim.zero_grad()\n",
    "        identifier_optim.zero_grad()\n",
    "        predictor_optim.zero_grad()\n",
    "        cluster_optim.zero_grad()\n",
    "\n",
    "        y_pred, probs = model.forward_pass(x_train)\n",
    "        pred_loss = calc_pred_loss(y_train, y_pred, model.loss_weights)\n",
    "        enc_id_loss = calc_pred_loss(\n",
    "            y_train, y_pred, model.loss_weights) + model.alpha * calc_dist_loss(probs)\n",
    "        clus_loss = calc_pred_loss(y_train, y_pred, model.loss_weights) + \\\n",
    "            model.beta * calc_clus_loss(model.cluster_rep_set)\n",
    "\n",
    "        pred_loss.backward()\n",
    "        enc_id_loss.backward()\n",
    "        clus_loss.backward()\n",
    "\n",
    "        encoder_optim.step()\n",
    "        identifier_optim.step()\n",
    "        predictor_optim.step()\n",
    "        cluster_optim.step()\n",
    "\n",
    "        epoch_pred_loss += pred_loss.item()\n",
    "        epoch_enc_id_loss += enc_id_loss.item()\n",
    "        epoch_clus_loss += clus_loss.item()"
   ]
  },
  {
   "cell_type": "code",
   "execution_count": null,
   "metadata": {},
   "outputs": [],
   "source": []
  }
 ],
 "metadata": {
  "kernelspec": {
   "display_name": "Python 3",
   "language": "python",
   "name": "python3"
  },
  "language_info": {
   "codemirror_mode": {
    "name": "ipython",
    "version": 3
   },
   "file_extension": ".py",
   "mimetype": "text/x-python",
   "name": "python",
   "nbconvert_exporter": "python",
   "pygments_lexer": "ipython3",
   "version": "3.8.7"
  },
  "orig_nbformat": 4,
  "vscode": {
   "interpreter": {
    "hash": "570feb405e2e27c949193ac68f46852414290d515b0ba6e5d90d076ed2284471"
   }
  }
 },
 "nbformat": 4,
 "nbformat_minor": 2
}
